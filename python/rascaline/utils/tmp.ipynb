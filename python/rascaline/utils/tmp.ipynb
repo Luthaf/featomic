{
 "cells": [
  {
   "cell_type": "code",
   "execution_count": 52,
   "metadata": {},
   "outputs": [
    {
     "name": "stdout",
     "output_type": "stream",
     "text": [
      "The autoreload extension is already loaded. To reload it, use:\n",
      "  %reload_ext autoreload\n"
     ]
    }
   ],
   "source": [
    "%load_ext autoreload\n",
    "%autoreload 2\n",
    "\n",
    "import ase.io\n",
    "import numpy as np\n",
    "\n",
    "import rascaline\n",
    "import equistore\n",
    "from equistore import Labels, TensorBlock, TensorMap\n",
    "\n",
    "import clebsch_gordan"
   ]
  },
  {
   "cell_type": "code",
   "execution_count": 125,
   "metadata": {},
   "outputs": [
    {
     "data": {
      "text/plain": [
       "TensorMap with 10 blocks\n",
       "keys: spherical_harmonics_l  species_center\n",
       "                4                  1\n",
       "                2                  8\n",
       "                      ...\n",
       "                4                  8\n",
       "                3                  1"
      ]
     },
     "execution_count": 125,
     "metadata": {},
     "output_type": "execute_result"
    }
   ],
   "source": [
    "frames = [ase.io.read(\"frame.xyz\")]\n",
    "\n",
    "lmax = 5\n",
    "\n",
    "rascal_hypers = {\n",
    "    \"cutoff\": 3.0,  # Angstrom\n",
    "    \"max_radial\": 6,  # Exclusive\n",
    "    \"max_angular\": 5,  # Inclusive\n",
    "    \"atomic_gaussian_width\": 0.2,\n",
    "    \"radial_basis\": {\"Gto\": {}},\n",
    "    \"cutoff_function\": {\"ShiftedCosine\": {\"width\": 0.5}},\n",
    "    \"center_atom_weight\": 1.0,\n",
    "}\n",
    "\n",
    "calculator = rascaline.SphericalExpansion(**rascal_hypers)\n",
    "nu1 = calculator.compute(frames)\n",
    "nu1 = nu1.keys_to_properties(\"species_neighbor\")\n",
    "lambdas = np.arange(lmax)\n",
    "\n",
    "clebsch_gordan._create_combined_keys(nu1.keys, nu1.keys, lambdas)\n",
    "cg_cache = clebsch_gordan.ClebschGordanReal(l_max=lmax)\n",
    "\n",
    "lsoap = clebsch_gordan._combine_single_center(nu1, nu1, lambdas, cg_cache)\n",
    "lsoap"
   ]
  }
 ],
 "metadata": {
  "kernelspec": {
   "display_name": "dev",
   "language": "python",
   "name": "python3"
  },
  "language_info": {
   "codemirror_mode": {
    "name": "ipython",
    "version": 3
   },
   "file_extension": ".py",
   "mimetype": "text/x-python",
   "name": "python",
   "nbconvert_exporter": "python",
   "pygments_lexer": "ipython3",
   "version": "3.10.9"
  },
  "orig_nbformat": 4
 },
 "nbformat": 4,
 "nbformat_minor": 2
}
