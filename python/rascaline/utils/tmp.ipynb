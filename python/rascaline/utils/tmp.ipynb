{
 "cells": [
  {
   "cell_type": "code",
   "execution_count": 3,
   "metadata": {},
   "outputs": [
    {
     "name": "stdout",
     "output_type": "stream",
     "text": [
      "The autoreload extension is already loaded. To reload it, use:\n",
      "  %reload_ext autoreload\n"
     ]
    }
   ],
   "source": [
    "%load_ext autoreload\n",
    "%autoreload 2\n",
    "\n",
    "import ase.io\n",
    "import numpy as np\n",
    "\n",
    "import rascaline\n",
    "import equistore\n",
    "from equistore import Labels, TensorBlock, TensorMap\n",
    "\n",
    "from rascaline.utils import clebsch_gordan as cg\n",
    "# import clebsch_gordan"
   ]
  },
  {
   "cell_type": "code",
   "execution_count": 6,
   "metadata": {},
   "outputs": [
    {
     "data": {
      "text/plain": [
       "TensorMap with 6 blocks\n",
       "keys: order_nu  inversion_sigma  spherical_harmonics_l  species_center\n",
       "         2             1                   0                  1\n",
       "         2             1                   2                  1\n",
       "                                    ...\n",
       "         2             1                   2                  8\n",
       "         2            -1                   2                  8"
      ]
     },
     "execution_count": 6,
     "metadata": {},
     "output_type": "execute_result"
    }
   ],
   "source": [
    "frames = [ase.io.read(\"frame.xyz\")]\n",
    "\n",
    "lmax = 5\n",
    "lambdas = np.array([0, 2])\n",
    "rascal_hypers = {\n",
    "    \"cutoff\": 3.0,  # Angstrom\n",
    "    \"max_radial\": 6,  # Exclusive\n",
    "    \"max_angular\": lmax,  # Inclusive\n",
    "    \"atomic_gaussian_width\": 0.2,\n",
    "    \"radial_basis\": {\"Gto\": {}},\n",
    "    \"cutoff_function\": {\"ShiftedCosine\": {\"width\": 0.5}},\n",
    "    \"center_atom_weight\": 1.0,\n",
    "}\n",
    "\n",
    "lsoap = cg.n_body_iteration_single_center(\n",
    "    frames,\n",
    "    rascal_hypers=rascal_hypers,\n",
    "    nu_target=2,\n",
    "    lambdas=lambdas,\n",
    "    intermediate_lambda_max=lmax * 2,\n",
    ")\n",
    "lsoap"
   ]
  }
 ],
 "metadata": {
  "kernelspec": {
   "display_name": "dev",
   "language": "python",
   "name": "python3"
  },
  "language_info": {
   "codemirror_mode": {
    "name": "ipython",
    "version": 3
   },
   "file_extension": ".py",
   "mimetype": "text/x-python",
   "name": "python",
   "nbconvert_exporter": "python",
   "pygments_lexer": "ipython3",
   "version": "3.10.9"
  },
  "orig_nbformat": 4
 },
 "nbformat": 4,
 "nbformat_minor": 2
}
