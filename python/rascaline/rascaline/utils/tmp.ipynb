{
 "cells": [
  {
   "cell_type": "code",
   "execution_count": 1,
   "metadata": {},
   "outputs": [],
   "source": [
    "%load_ext autoreload\n",
    "%autoreload 2\n",
    "\n",
    "import ase.io\n",
    "import numpy as np\n",
    "\n",
    "import rascaline\n",
    "import equistore\n",
    "from equistore import Labels, TensorBlock, TensorMap\n",
    "\n",
    "# from rascaline.utils import clebsch_gordan\n",
    "import clebsch_gordan"
   ]
  },
  {
   "cell_type": "markdown",
   "metadata": {},
   "source": [
    "# Test system 1"
   ]
  },
  {
   "cell_type": "code",
   "execution_count": 2,
   "metadata": {},
   "outputs": [],
   "source": [
    "frames = ase.io.read(\"combined_magres_spherical.xyz\", \":\")\n",
    "\n",
    "# Define hyperparameters for generating the rascaline SphericalExpansion\n",
    "rascal_hypers = {\n",
    "    \"cutoff\": 3.0,  # Angstrom\n",
    "    \"max_radial\": 6,  # Exclusive\n",
    "    \"max_angular\": 5,  # Inclusive\n",
    "    \"atomic_gaussian_width\": 0.2,\n",
    "    \"radial_basis\": {\"Gto\": {}},\n",
    "    \"cutoff_function\": {\"ShiftedCosine\": {\"width\": 0.5}},\n",
    "    \"center_atom_weight\": 1.0,\n",
    "}\n",
    "\n",
    "# Define target lambda channels\n",
    "lambdas = np.array([0, 2])"
   ]
  },
  {
   "cell_type": "code",
   "execution_count": 6,
   "metadata": {},
   "outputs": [
    {
     "name": "stdout",
     "output_type": "stream",
     "text": [
      "22.5 s ± 925 ms per loop (mean ± std. dev. of 7 runs, 1 loop each)\n"
     ]
    }
   ],
   "source": [
    "%%timeit\n",
    "\n",
    "use_sparse = False\n",
    "\n",
    "tensor_dense = clebsch_gordan.n_body_iteration_single_center(\n",
    "    frames,\n",
    "    rascal_hypers=rascal_hypers,\n",
    "    nu_target=3,\n",
    "    lambdas=lambdas,\n",
    "    use_sparse=use_sparse,\n",
    ")\n",
    "tensor_dense\n",
    "\n",
    "# timeit comes out at about 22 seconds for nu_target = 3"
   ]
  },
  {
   "cell_type": "code",
   "execution_count": 3,
   "metadata": {},
   "outputs": [
    {
     "name": "stdout",
     "output_type": "stream",
     "text": [
      "12.9 s ± 1.92 s per loop (mean ± std. dev. of 7 runs, 1 loop each)\n"
     ]
    }
   ],
   "source": [
    "%%timeit\n",
    "\n",
    "use_sparse = True\n",
    "\n",
    "tensor_sparse = clebsch_gordan.n_body_iteration_single_center(\n",
    "    frames,\n",
    "    rascal_hypers=rascal_hypers,\n",
    "    nu_target=3,\n",
    "    lambdas=lambdas,\n",
    "    use_sparse=use_sparse,\n",
    ")\n",
    "tensor_sparse\n",
    "\n",
    "# timeit comes out at about 13 seconds for nu_target = 3"
   ]
  },
  {
   "cell_type": "code",
   "execution_count": 7,
   "metadata": {},
   "outputs": [],
   "source": [
    "tensor_sparse = clebsch_gordan.n_body_iteration_single_center(\n",
    "    frames,\n",
    "    rascal_hypers=rascal_hypers,\n",
    "    nu_target=3,\n",
    "    lambdas=lambdas,\n",
    "    use_sparse=True,\n",
    ")\n",
    "\n",
    "tensor_dense = clebsch_gordan.n_body_iteration_single_center(\n",
    "    frames,\n",
    "    rascal_hypers=rascal_hypers,\n",
    "    nu_target=3,\n",
    "    lambdas=lambdas,\n",
    "    use_sparse=False,\n",
    ")\n",
    "\n",
    "assert equistore.allclose(tensor_dense, tensor_sparse)"
   ]
  },
  {
   "cell_type": "markdown",
   "metadata": {},
   "source": [
    "# Test system 2"
   ]
  },
  {
   "cell_type": "code",
   "execution_count": 8,
   "metadata": {},
   "outputs": [
    {
     "data": {
      "text/plain": [
       "TensorMap with 8 blocks\n",
       "keys: order_nu  inversion_sigma  spherical_harmonics_l  species_center\n",
       "         3             1                   0                  1\n",
       "         3            -1                   2                  1\n",
       "                                    ...\n",
       "         3             1                   2                  8\n",
       "         3            -1                   0                  8"
      ]
     },
     "execution_count": 8,
     "metadata": {},
     "output_type": "execute_result"
    }
   ],
   "source": [
    "frames = [ase.io.read(\"frame.xyz\")]\n",
    "\n",
    "lambdas = np.array([0, 2])\n",
    "\n",
    "rascal_hypers = {\n",
    "    \"cutoff\": 3.0,  # Angstrom\n",
    "    \"max_radial\": 6,  # Exclusive\n",
    "    \"max_angular\": 5,  # Inclusive\n",
    "    \"atomic_gaussian_width\": 0.2,\n",
    "    \"radial_basis\": {\"Gto\": {}},\n",
    "    \"cutoff_function\": {\"ShiftedCosine\": {\"width\": 0.5}},\n",
    "    \"center_atom_weight\": 1.0,\n",
    "}\n",
    "\n",
    "n_body = clebsch_gordan.n_body_iteration_single_center(\n",
    "    frames,\n",
    "    rascal_hypers=rascal_hypers,\n",
    "    nu_target=3,\n",
    "    lambdas=lambdas,\n",
    ")\n",
    "n_body"
   ]
  },
  {
   "cell_type": "code",
   "execution_count": null,
   "metadata": {},
   "outputs": [],
   "source": [
    "# selected_samples = None\n",
    "# species_neighbors = [1, 8, 6]\n",
    "\n",
    "# calculator = rascaline.SphericalExpansion(**rascal_hypers)\n",
    "# nu1 = calculator.compute(frames, selected_samples=selected_samples)\n",
    "\n",
    "# # Move the \"species_neighbor\" key to the properties. If species_neighbors is\n",
    "# # passed as a list of int, sparsity can be created in the properties for\n",
    "# # these species.\n",
    "# if species_neighbors is None:\n",
    "#     keys_to_move = \"species_neighbor\"\n",
    "# else:\n",
    "#     keys_to_move = Labels(\n",
    "#         names=[\"species_neighbor\"],\n",
    "#         values=np.array(species_neighbors).reshape(-1, 1),\n",
    "#     )\n",
    "# nu1 = nu1.keys_to_properties(keys_to_move=keys_to_move)\n",
    "# nu1 = clebsch_gordan._add_nu_sigma_to_key_names(nu1)"
   ]
  }
 ],
 "metadata": {
  "kernelspec": {
   "display_name": "dev",
   "language": "python",
   "name": "python3"
  },
  "language_info": {
   "codemirror_mode": {
    "name": "ipython",
    "version": 3
   },
   "file_extension": ".py",
   "mimetype": "text/x-python",
   "name": "python",
   "nbconvert_exporter": "python",
   "pygments_lexer": "ipython3",
   "version": "3.10.9"
  },
  "orig_nbformat": 4
 },
 "nbformat": 4,
 "nbformat_minor": 2
}
