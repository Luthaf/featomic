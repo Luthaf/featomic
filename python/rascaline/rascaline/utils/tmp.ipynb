{
 "cells": [
  {
   "cell_type": "code",
   "execution_count": 11,
   "metadata": {},
   "outputs": [
    {
     "name": "stdout",
     "output_type": "stream",
     "text": [
      "The autoreload extension is already loaded. To reload it, use:\n",
      "  %reload_ext autoreload\n"
     ]
    }
   ],
   "source": [
    "%load_ext autoreload\n",
    "%autoreload 2\n",
    "\n",
    "import ase.io\n",
    "import numpy as np\n",
    "\n",
    "import rascaline\n",
    "import metatensor\n",
    "from metatensor import Labels, TensorBlock, TensorMap\n",
    "import chemiscope\n",
    "\n",
    "# from rascaline.utils import clebsch_gordan\n",
    "import clebsch_gordan\n",
    "import old_clebsch_gordan\n",
    "import rotations"
   ]
  },
  {
   "cell_type": "markdown",
   "metadata": {},
   "source": [
    "## Generate a rascaline SphericalExpansion calculator"
   ]
  },
  {
   "cell_type": "code",
   "execution_count": 2,
   "metadata": {},
   "outputs": [],
   "source": [
    "# frames = ase.io.read(\"frame.xyz\", \":\")\n",
    "frames = ase.io.read(\"combined_magres_spherical.xyz\", \":5\")\n",
    "\n",
    "# Define hyperparameters for generating the rascaline SphericalExpansion\n",
    "rascal_hypers = {\n",
    "    \"cutoff\": 3.0,  # Angstrom\n",
    "    \"max_radial\": 4,  # Exclusive\n",
    "    \"max_angular\": 5,  # Inclusive\n",
    "    \"atomic_gaussian_width\": 0.2,\n",
    "    \"radial_basis\": {\"Gto\": {}},\n",
    "    \"cutoff_function\": {\"ShiftedCosine\": {\"width\": 0.5}},\n",
    "    \"center_atom_weight\": 1.0,\n",
    "}\n",
    "calculator = rascaline.SphericalExpansion(**rascal_hypers)"
   ]
  },
  {
   "cell_type": "markdown",
   "metadata": {},
   "source": [
    "# Equivariance Test - SO(3) for $\\nu=3$"
   ]
  },
  {
   "cell_type": "code",
   "execution_count": 38,
   "metadata": {},
   "outputs": [
    {
     "name": "stdout",
     "output_type": "stream",
     "text": [
      "Random rotation angles (rad): [5.77507977 5.81759295 0.3318965 ]\n",
      "Computing nu = 3 descriptor for unrotated frames...\n",
      "Computing nu = 3 descriptor for rotated frames...\n",
      "SO(3) EQUIVARIANT!\n"
     ]
    }
   ],
   "source": [
    "# Define target angular channels\n",
    "angular_selection = [0, 2]\n",
    "\n",
    "# Generate Wigner-D matrices, initialized with random angles\n",
    "wig = rotations.WignerDReal(lmax=rascal_hypers[\"max_angular\"])\n",
    "print(\"Random rotation angles (rad):\", wig.angles)\n",
    "\n",
    "# Randomly rigidly rotate the frame\n",
    "frames_so3 = [rotations.transform_frame_so3(frame, wig.angles) for frame in frames]\n",
    "assert not np.allclose(frames[-1].positions, frames_so3[-1].positions)\n",
    "\n",
    "# Generate nu=3 descriptor for both frames\n",
    "print(\"Computing nu = 3 descriptor for unrotated frames...\")\n",
    "nu_1 = calculator.compute(frames)\n",
    "nu_3 = clebsch_gordan.combine_single_center_to_body_order(\n",
    "    nu_1_tensor=nu_1,\n",
    "    target_body_order=3,\n",
    "    angular_selection=angular_selection,\n",
    "    parity_selection=[+1],\n",
    ")\n",
    "print(\"Computing nu = 3 descriptor for rotated frames...\")\n",
    "nu_1_rot = calculator.compute(frames_so3)\n",
    "nu_3_rot = clebsch_gordan.combine_single_center_to_body_order(\n",
    "    nu_1_tensor=nu_1_rot,\n",
    "    target_body_order=3,\n",
    "    angular_selection=angular_selection,\n",
    "    parity_selection=[+1],\n",
    ")\n",
    "\n",
    "# Rotate the lambda-SOAP descriptor of the unrotated frame\n",
    "nu_3_transf = wig.transform_tensormap_so3(nu_3)\n",
    "\n",
    "# Check for equivariance!\n",
    "assert metatensor.equal_metadata(nu_3_transf, nu_3_rot)\n",
    "assert metatensor.allclose(nu_3_transf, nu_3_rot)\n",
    "print(\"SO(3) EQUIVARIANT!\")\n",
    "\n",
    "# chemiscope.show(frames + frames_so3, mode=\"structure\")"
   ]
  },
  {
   "cell_type": "markdown",
   "metadata": {},
   "source": [
    "# Equivariance Test - O(3) on $\\nu=2$ (i.e. $\\lambda$-SOAP)"
   ]
  },
  {
   "cell_type": "code",
   "execution_count": 39,
   "metadata": {},
   "outputs": [
    {
     "name": "stdout",
     "output_type": "stream",
     "text": [
      "Random rotation angles (rad): [2.72689356 0.10058627 6.14346159]\n",
      "Computing lambda-SOAP descriptor for unrotated frames...\n",
      "Computing lambda-SOAP descriptor for rotated frames...\n",
      "O(3) EQUIVARIANT!\n"
     ]
    }
   ],
   "source": [
    "# Define target lambda channels\n",
    "angular_selection = [0, 1, 2, 3, 4, 5]\n",
    "\n",
    "# Generate Wigner-D matrices, initialized with random angles\n",
    "wig = rotations.WignerDReal(lmax=rascal_hypers[\"max_angular\"])\n",
    "print(\"Random rotation angles (rad):\", wig.angles)\n",
    "\n",
    "# Apply an O(3) transformation to the frame\n",
    "frames_o3 = [rotations.transform_frame_o3(frame, wig.angles) for frame in frames]\n",
    "assert not np.allclose(frames[-1].positions, frames_o3[-1].positions)\n",
    "\n",
    "# Generate lambda-SOAP for both frames\n",
    "print(\"Computing lambda-SOAP descriptor for unrotated frames...\")\n",
    "nu_1 = calculator.compute(frames)\n",
    "lsoap = clebsch_gordan.lambda_soap_vector(\n",
    "    nu_1_tensor=nu_1,\n",
    "    angular_selection=angular_selection,\n",
    ")\n",
    "print(\"Computing lambda-SOAP descriptor for rotated frames...\")\n",
    "nu_1_rot = calculator.compute(frames_o3)\n",
    "lsoap_o3 = clebsch_gordan.lambda_soap_vector(\n",
    "    nu_1_tensor=nu_1_rot,\n",
    "    angular_selection=angular_selection,\n",
    ")\n",
    "\n",
    "# Apply the O(3) transformation to the TensorMap\n",
    "lsoap_transf = wig.transform_tensormap_o3(lsoap)\n",
    "\n",
    "# Check for equivariance!\n",
    "assert metatensor.equal_metadata(lsoap_transf, lsoap_o3)\n",
    "assert metatensor.allclose(lsoap_transf, lsoap_o3)\n",
    "print(\"O(3) EQUIVARIANT!\")\n",
    "\n",
    "# chemiscope.show(frames + frames_o3, mode=\"structure\")"
   ]
  },
  {
   "cell_type": "markdown",
   "metadata": {},
   "source": [
    "# Old v new lambda-SOAP"
   ]
  },
  {
   "cell_type": "code",
   "execution_count": 26,
   "metadata": {},
   "outputs": [
    {
     "name": "stdout",
     "output_type": "stream",
     "text": [
      "Size: 23315040\n",
      "Size: 23315040\n",
      "Size: 23315040\n",
      "Size: 23315040\n",
      "Size: 23315040\n",
      "Size: 23315040\n",
      "Size: 23315040\n",
      "Size: 23315040\n",
      "731 ms ± 9.24 ms per loop (mean ± std. dev. of 7 runs, 1 loop each)\n"
     ]
    }
   ],
   "source": [
    "%%timeit\n",
    "lsoap_old = old_clebsch_gordan.lambda_soap_vector(frames, rascal_hypers, lambda_cut=5)\n",
    "\n",
    "size = 0\n",
    "for block in lsoap_old:\n",
    "    size += np.prod(block.values.shape)\n",
    "print(\"Size:\", size)"
   ]
  },
  {
   "cell_type": "code",
   "execution_count": 28,
   "metadata": {},
   "outputs": [
    {
     "name": "stdout",
     "output_type": "stream",
     "text": [
      "Size: 13819680\n",
      "Size: 13819680\n",
      "Size: 13819680\n",
      "Size: 13819680\n",
      "Size: 13819680\n",
      "Size: 13819680\n",
      "Size: 13819680\n",
      "Size: 13819680\n",
      "410 ms ± 12.2 ms per loop (mean ± std. dev. of 7 runs, 1 loop each)\n"
     ]
    }
   ],
   "source": [
    "%%timeit\n",
    "calculator = rascaline.SphericalExpansion(**rascal_hypers)\n",
    "nu_1 = calculator.compute(frames)\n",
    "lsoap_new = clebsch_gordan.lambda_soap_vector(nu_1, angular_cutoff=5)\n",
    "\n",
    "size = 0\n",
    "for block in lsoap_new:\n",
    "    size += np.prod(block.values.shape)\n",
    "print(\"Size:\", size)"
   ]
  },
  {
   "cell_type": "markdown",
   "metadata": {},
   "source": [
    "# Dense v Sparse"
   ]
  },
  {
   "cell_type": "code",
   "execution_count": 34,
   "metadata": {},
   "outputs": [
    {
     "data": {
      "text/plain": [
       "TensorMap with 36 blocks\n",
       "keys: order_nu  inversion_sigma  spherical_harmonics_l  species_center\n",
       "         3             1                   0                  3\n",
       "         3            -1                   1                  3\n",
       "                                    ...\n",
       "         3             1                   5                  22\n",
       "         3            -1                   5                  22"
      ]
     },
     "execution_count": 34,
     "metadata": {},
     "output_type": "execute_result"
    }
   ],
   "source": [
    "# Dense\n",
    "calculator = rascaline.SphericalExpansion(**rascal_hypers)\n",
    "nu_1 = calculator.compute(frames[:2])\n",
    "nu_2_dense = clebsch_gordan.combine_single_center_to_body_order(\n",
    "    nu_1,\n",
    "    target_body_order=3,\n",
    "    angular_cutoff=5,\n",
    "    use_sparse=False,\n",
    ")\n",
    "nu_2_dense"
   ]
  },
  {
   "cell_type": "code",
   "execution_count": 36,
   "metadata": {},
   "outputs": [
    {
     "data": {
      "text/plain": [
       "TensorMap with 36 blocks\n",
       "keys: order_nu  inversion_sigma  spherical_harmonics_l  species_center\n",
       "         3             1                   0                  3\n",
       "         3            -1                   1                  3\n",
       "                                    ...\n",
       "         3             1                   5                  22\n",
       "         3            -1                   5                  22"
      ]
     },
     "execution_count": 36,
     "metadata": {},
     "output_type": "execute_result"
    }
   ],
   "source": [
    "# Sparse\n",
    "calculator = rascaline.SphericalExpansion(**rascal_hypers)\n",
    "nu_1 = calculator.compute(frames[:2])\n",
    "nu_2_sparse = clebsch_gordan.combine_single_center_to_body_order(\n",
    "    nu_1,\n",
    "    target_body_order=3,\n",
    "    angular_cutoff=5,\n",
    "    use_sparse=True,\n",
    ")\n",
    "nu_2_sparse"
   ]
  },
  {
   "cell_type": "code",
   "execution_count": 37,
   "metadata": {},
   "outputs": [
    {
     "data": {
      "text/plain": [
       "True"
      ]
     },
     "execution_count": 37,
     "metadata": {},
     "output_type": "execute_result"
    }
   ],
   "source": [
    "# Check sparse == dense\n",
    "metatensor.allclose(nu_2_dense, nu_2_sparse)"
   ]
  },
  {
   "cell_type": "markdown",
   "metadata": {},
   "source": [
    "# Test system 1"
   ]
  },
  {
   "cell_type": "code",
   "execution_count": null,
   "metadata": {},
   "outputs": [],
   "source": [
    "# %%timeit\n",
    "\n",
    "# use_sparse = False\n",
    "\n",
    "# tensor_dense = clebsch_gordan.n_body_iteration_single_center(\n",
    "#     frames,\n",
    "#     rascal_hypers=rascal_hypers,\n",
    "#     nu_target=3,\n",
    "#     lambdas=lambdas,\n",
    "#     use_sparse=use_sparse,\n",
    "# )\n",
    "# tensor_dense\n",
    "\n",
    "# # timeit comes out at about 22 seconds for nu_target = 3"
   ]
  },
  {
   "cell_type": "code",
   "execution_count": null,
   "metadata": {},
   "outputs": [],
   "source": [
    "# %%timeit\n",
    "\n",
    "# use_sparse = True\n",
    "\n",
    "# tensor_sparse = clebsch_gordan.n_body_iteration_single_center(\n",
    "#     frames,\n",
    "#     rascal_hypers=rascal_hypers,\n",
    "#     nu_target=3,\n",
    "#     lambdas=lambdas,\n",
    "#     use_sparse=use_sparse,\n",
    "# )\n",
    "# tensor_sparse\n",
    "\n",
    "# # timeit comes out at about 13 seconds for nu_target = 3"
   ]
  },
  {
   "cell_type": "code",
   "execution_count": null,
   "metadata": {},
   "outputs": [],
   "source": [
    "# tensor_sparse = clebsch_gordan.n_body_iteration_single_center(\n",
    "#     frames,\n",
    "#     rascal_hypers=rascal_hypers,\n",
    "#     nu_target=3,\n",
    "#     lambdas=lambdas,\n",
    "#     use_sparse=True,\n",
    "# )\n",
    "\n",
    "# tensor_dense = clebsch_gordan.n_body_iteration_single_center(\n",
    "#     frames,\n",
    "#     rascal_hypers=rascal_hypers,\n",
    "#     nu_target=3,\n",
    "#     lambdas=lambdas,\n",
    "#     use_sparse=False,\n",
    "# )\n",
    "\n",
    "# assert metatensor.allclose(tensor_dense, tensor_sparse)"
   ]
  },
  {
   "cell_type": "markdown",
   "metadata": {},
   "source": [
    "# Test system 2"
   ]
  },
  {
   "cell_type": "code",
   "execution_count": null,
   "metadata": {},
   "outputs": [],
   "source": [
    "# frames = [ase.io.read(\"frame.xyz\")]\n",
    "\n",
    "# lambdas = np.array([0, 2])\n",
    "\n",
    "# rascal_hypers = {\n",
    "#     \"cutoff\": 3.0,  # Angstrom\n",
    "#     \"max_radial\": 6,  # Exclusive\n",
    "#     \"max_angular\": 5,  # Inclusive\n",
    "#     \"atomic_gaussian_width\": 0.2,\n",
    "#     \"radial_basis\": {\"Gto\": {}},\n",
    "#     \"cutoff_function\": {\"ShiftedCosine\": {\"width\": 0.5}},\n",
    "#     \"center_atom_weight\": 1.0,\n",
    "# }\n",
    "\n",
    "# n_body = clebsch_gordan.n_body_iteration_single_center(\n",
    "#     frames,\n",
    "#     rascal_hypers=rascal_hypers,\n",
    "#     nu_target=3,\n",
    "#     lambdas=lambdas,\n",
    "# )\n",
    "# n_body"
   ]
  },
  {
   "cell_type": "code",
   "execution_count": null,
   "metadata": {},
   "outputs": [],
   "source": [
    "# def sort_tm(tm):\n",
    "#     blocks = []\n",
    "#     for _, block in tm.items():\n",
    "#         values = block.values\n",
    "\n",
    "#         samples_values = block.samples.values\n",
    "#         sorted_idx = native_list_argsort([tuple(row.tolist()) for row in block.samples.values])\n",
    "#         samples_values = samples_values[sorted_idx]\n",
    "#         values = values[sorted_idx]\n",
    "\n",
    "#         components_values = []\n",
    "#         for i, component in enumerate(block.components):\n",
    "#             component_values = component.values\n",
    "#             sorted_idx = native_list_argsort([tuple(row.tolist()) for row in component.values])\n",
    "#             components_values.append( component_values[sorted_idx] )\n",
    "#             values = np.take(values, sorted_idx, axis=i+1)\n",
    "\n",
    "#         properties_values = block.properties.values\n",
    "#         sorted_idx = native_list_argsort([tuple(row.tolist()) for row in block.properties.values])\n",
    "#         properties_values = properties_values[sorted_idx]\n",
    "#         values = values[..., sorted_idx]\n",
    "\n",
    "#         blocks.append(\n",
    "#             TensorBlock(\n",
    "#                 values=values,\n",
    "#                 samples=Labels(values=samples_values, names=block.samples.names),\n",
    "#                 components=[Labels(values=components_values[i], names=component.names) for i, component in enumerate(block.components)],\n",
    "#                 properties=Labels(values=properties_values, names=block.properties.names)\n",
    "#             )\n",
    "#         )\n",
    "#     return TensorMap(keys=tm.keys, blocks=blocks)\n",
    "\n",
    "\n",
    "# def native_list_argsort(native_list):\n",
    "#     return sorted(range(len(native_list)), key=native_list.__getitem__)\n"
   ]
  },
  {
   "cell_type": "code",
   "execution_count": null,
   "metadata": {},
   "outputs": [],
   "source": [
    "\n",
    "# # Manipulate metadata from old LSOAP\n",
    "# lsoap_old = metatensor.permute_dimensions(lsoap_old0, axis=\"properties\", dimensions_indexes=[2, 5, 0, 1, 3, 4])\n",
    "# lsoap_old = metatensor.rename_dimension(lsoap_old, axis=\"properties\", old=\"l_1\", new=\"l1\")\n",
    "# lsoap_old = metatensor.rename_dimension(lsoap_old, axis=\"properties\", old=\"l_2\", new=\"l2\")\n",
    "# lsoap_old = metatensor.rename_dimension(lsoap_old, axis=\"properties\", old=\"n_1\", new=\"n1\")\n",
    "# lsoap_old = metatensor.rename_dimension(lsoap_old, axis=\"properties\", old=\"n_2\", new=\"n2\")\n",
    "\n",
    "# # Slice TM to symmetrize l-values\n",
    "# sliced_blocks = []\n",
    "# for key, block in lsoap_old.items():\n",
    "#     # Filter properties l1 <= l2\n",
    "#     mask = [entry[0] <= entry[1] for entry in block.properties]\n",
    "#     new_labels = Labels(names=block.properties.names, values=block.properties.values[mask])\n",
    "\n",
    "#     # Slice block\n",
    "#     sliced_block = metatensor.slice_block(block, axis=\"properties\", labels=new_labels)\n",
    "#     sliced_blocks.append(sliced_block)\n",
    "\n",
    "# # Check equal metadata\n",
    "# lsoap_old = sort_tm(TensorMap(keys=lsoap_old.keys, blocks=sliced_blocks))\n",
    "# lsoap_new = sort_tm(lsoap_new0)\n",
    "# assert metatensor.equal_metadata(lsoap_old, lsoap_new)\n",
    "\n",
    "# # Check equal values\n",
    "# metatensor.allclose_raise(lsoap_old, lsoap_new)"
   ]
  },
  {
   "cell_type": "code",
   "execution_count": null,
   "metadata": {},
   "outputs": [],
   "source": [
    "# for key in lsoap_old.keys:\n",
    "#     b1 = lsoap_old[key]\n",
    "#     b2 = lsoap_new[key]\n",
    "\n",
    "#     print(key, metatensor.allclose_block(b1, b2))"
   ]
  },
  {
   "cell_type": "code",
   "execution_count": null,
   "metadata": {},
   "outputs": [],
   "source": [
    "# np.linalg.norm(\n",
    "#     lsoap_old.block(inversion_sigma=1, spherical_harmonics_l=1, species_center=3).values\n",
    "#     - lsoap_new.block(\n",
    "#         inversion_sigma=1, spherical_harmonics_l=1, species_center=3\n",
    "#     ).values\n",
    "# )"
   ]
  },
  {
   "cell_type": "code",
   "execution_count": null,
   "metadata": {},
   "outputs": [],
   "source": [
    "# # NOW SLICE TO l1 == l2\n",
    "\n",
    "# # Slice TM\n",
    "# sliced_blocks = []\n",
    "# for key, block in lsoap_old.items():\n",
    "#     # Filter properties\n",
    "#     mask = [entry[0] == entry[1] for entry in block.properties]\n",
    "#     new_labels = Labels(names=block.properties.names, values=block.properties.values[mask])\n",
    "\n",
    "#     # Slice block\n",
    "#     sliced_blocks.append(metatensor.slice_block(block, axis=\"properties\", labels=new_labels))\n",
    "\n",
    "# lsoap_old_sliced = TensorMap(keys=lsoap_old.keys, blocks=sliced_blocks)\n",
    "\n",
    "# # Slice TM\n",
    "# sliced_blocks = []\n",
    "# for key, block in lsoap_new.items():\n",
    "#     # Filter properties\n",
    "#     mask = [entry[0] == entry[1] for entry in block.properties]\n",
    "#     new_labels = Labels(names=block.properties.names, values=block.properties.values[mask])\n",
    "\n",
    "#     # Slice block\n",
    "#     sliced_blocks.append(metatensor.slice_block(block, axis=\"properties\", labels=new_labels))\n",
    "\n",
    "# lsoap_new_sliced = TensorMap(keys=lsoap_new.keys, blocks=sliced_blocks)\n",
    "\n",
    "# assert metatensor.equal_metadata(lsoap_old_sliced, lsoap_new_sliced)\n",
    "# assert metatensor.allclose_raise(lsoap_old_sliced, lsoap_new_sliced)"
   ]
  }
 ],
 "metadata": {
  "kernelspec": {
   "display_name": "dev",
   "language": "python",
   "name": "python3"
  },
  "language_info": {
   "codemirror_mode": {
    "name": "ipython",
    "version": 3
   },
   "file_extension": ".py",
   "mimetype": "text/x-python",
   "name": "python",
   "nbconvert_exporter": "python",
   "pygments_lexer": "ipython3",
   "version": "3.10.9"
  },
  "orig_nbformat": 4
 },
 "nbformat": 4,
 "nbformat_minor": 2
}
