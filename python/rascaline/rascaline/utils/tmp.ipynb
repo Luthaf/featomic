{
 "cells": [
  {
   "cell_type": "code",
   "execution_count": 19,
   "metadata": {},
   "outputs": [
    {
     "name": "stdout",
     "output_type": "stream",
     "text": [
      "The autoreload extension is already loaded. To reload it, use:\n",
      "  %reload_ext autoreload\n"
     ]
    }
   ],
   "source": [
    "%load_ext autoreload\n",
    "%autoreload 2\n",
    "\n",
    "import ase.io\n",
    "import numpy as np\n",
    "\n",
    "import rascaline\n",
    "import equistore\n",
    "from equistore import Labels, TensorBlock, TensorMap\n",
    "import chemiscope\n",
    "\n",
    "# from rascaline.utils import clebsch_gordan\n",
    "import clebsch_gordan\n",
    "import spherical"
   ]
  },
  {
   "cell_type": "code",
   "execution_count": 20,
   "metadata": {},
   "outputs": [],
   "source": [
    "frames = ase.io.read(\"combined_magres_spherical.xyz\", \":\")\n",
    "\n",
    "# Define hyperparameters for generating the rascaline SphericalExpansion\n",
    "rascal_hypers = {\n",
    "    \"cutoff\": 3.0,  # Angstrom\n",
    "    \"max_radial\": 6,  # Exclusive\n",
    "    \"max_angular\": 5,  # Inclusive\n",
    "    \"atomic_gaussian_width\": 0.2,\n",
    "    \"radial_basis\": {\"Gto\": {}},\n",
    "    \"cutoff_function\": {\"ShiftedCosine\": {\"width\": 0.5}},\n",
    "    \"center_atom_weight\": 1.0,\n",
    "}\n",
    "\n",
    "# Define target lambda channels\n",
    "lambdas = np.array([0, 1, 2])"
   ]
  },
  {
   "cell_type": "code",
   "execution_count": 12,
   "metadata": {},
   "outputs": [
    {
     "name": "stderr",
     "output_type": "stream",
     "text": [
      "/opt/miniforge3/envs/dev/lib/python3.10/site-packages/chemiscope/input.py:195: UserWarning: chemiscope behavior changed to no longer include properties from the structure objects. Use `chemiscope.extract_properties` to also visualize these properties ([efg_L2, efg, efg_L0])\n",
      "  warnings.warn(\n"
     ]
    },
    {
     "data": {
      "application/vnd.jupyter.widget-view+json": {
       "model_id": "fc16544574e848cc91ff5119d343d6a8",
       "version_major": 2,
       "version_minor": 0
      },
      "text/plain": [
       "StructureWidget(value='{\"meta\": {\"name\": \" \"}, \"structures\": [{\"size\": 42, \"names\": [\"Li\", \"Li\", \"Li\", \"Li\", \"…"
      ]
     },
     "execution_count": 12,
     "metadata": {},
     "output_type": "execute_result"
    }
   ],
   "source": [
    "chemiscope.show([frames[0], frame_inv], mode=\"structure\")"
   ]
  },
  {
   "cell_type": "markdown",
   "metadata": {},
   "source": [
    "# Equivariance Test - SO(3)"
   ]
  },
  {
   "cell_type": "code",
   "execution_count": 21,
   "metadata": {},
   "outputs": [
    {
     "name": "stdout",
     "output_type": "stream",
     "text": [
      "Random rotation angles (rad): 2.20723878026074 2.7663510356084258 2.130637286978451\n",
      "SO(3)EQUIVARIANT!\n"
     ]
    }
   ],
   "source": [
    "# Pick a test frame\n",
    "frame = frames[0]\n",
    "\n",
    "# Randomly rigidly rotate the frame\n",
    "frame_rot, (a, b, c) = spherical.rotate_ase_frame(frame)\n",
    "print(\"Random rotation angles (rad):\", a, b, c)\n",
    "assert not np.all(frame.positions == frame_rot.positions)\n",
    "\n",
    "# Generate lambda-SOAP for both frames\n",
    "lsoap = clebsch_gordan.n_body_iteration_single_center(\n",
    "    [frame],\n",
    "    rascal_hypers,\n",
    "    nu_target=2,\n",
    "    lambdas=lambdas,\n",
    ")\n",
    "\n",
    "lsoap_rot = clebsch_gordan.n_body_iteration_single_center(\n",
    "    [frame_rot],\n",
    "    rascal_hypers,\n",
    "    nu_target=2,\n",
    "    lambdas=lambdas,\n",
    ")\n",
    "\n",
    "# Build a Wigner-D Matrix from the random rotation angles\n",
    "wig = spherical.WignerDReal(rascal_hypers[\"max_angular\"], a, b, c)\n",
    "\n",
    "# Rotate the lambda-SOAP descriptor of the unrotated frame\n",
    "lsoap_unrot_rot = wig.rotate_tensormap(lsoap)\n",
    "\n",
    "# Check for equivariance!\n",
    "assert equistore.equal_metadata(lsoap_unrot_rot, lsoap_rot)\n",
    "assert equistore.allclose(lsoap_unrot_rot, lsoap_rot)\n",
    "print(\"SO(3) EQUIVARIANT!\")"
   ]
  },
  {
   "cell_type": "markdown",
   "metadata": {},
   "source": [
    "# Equivariance Test - O(3)"
   ]
  },
  {
   "cell_type": "code",
   "execution_count": 48,
   "metadata": {},
   "outputs": [
    {
     "name": "stdout",
     "output_type": "stream",
     "text": [
      "LabelsEntry(order_nu=2, inversion_sigma=1, spherical_harmonics_l=0, species_center=3) True\n",
      "LabelsEntry(order_nu=2, inversion_sigma=1, spherical_harmonics_l=1, species_center=3) False\n",
      "LabelsEntry(order_nu=2, inversion_sigma=-1, spherical_harmonics_l=1, species_center=3) True\n",
      "LabelsEntry(order_nu=2, inversion_sigma=1, spherical_harmonics_l=2, species_center=3) True\n",
      "LabelsEntry(order_nu=2, inversion_sigma=-1, spherical_harmonics_l=2, species_center=3) False\n",
      "LabelsEntry(order_nu=2, inversion_sigma=1, spherical_harmonics_l=0, species_center=8) True\n",
      "LabelsEntry(order_nu=2, inversion_sigma=1, spherical_harmonics_l=1, species_center=8) False\n",
      "LabelsEntry(order_nu=2, inversion_sigma=-1, spherical_harmonics_l=1, species_center=8) True\n",
      "LabelsEntry(order_nu=2, inversion_sigma=1, spherical_harmonics_l=2, species_center=8) True\n",
      "LabelsEntry(order_nu=2, inversion_sigma=-1, spherical_harmonics_l=2, species_center=8) False\n",
      "LabelsEntry(order_nu=2, inversion_sigma=1, spherical_harmonics_l=0, species_center=22) True\n",
      "LabelsEntry(order_nu=2, inversion_sigma=1, spherical_harmonics_l=1, species_center=22) False\n",
      "LabelsEntry(order_nu=2, inversion_sigma=-1, spherical_harmonics_l=1, species_center=22) True\n",
      "LabelsEntry(order_nu=2, inversion_sigma=1, spherical_harmonics_l=2, species_center=22) True\n",
      "LabelsEntry(order_nu=2, inversion_sigma=-1, spherical_harmonics_l=2, species_center=22) False\n"
     ]
    }
   ],
   "source": [
    "# Pick a test frame\n",
    "frame = frames[0]\n",
    "\n",
    "# Invert the positions\n",
    "frame_inv = frames[0].copy()\n",
    "frame_inv.positions = -1 * frame_inv.positions\n",
    "assert not np.all(frame.positions == frame_inv.positions)\n",
    "\n",
    "# Generate lambda-SOAP for both frames\n",
    "lsoap = clebsch_gordan.n_body_iteration_single_center(\n",
    "    [frame],\n",
    "    rascal_hypers,\n",
    "    nu_target=2,\n",
    "    lambdas=lambdas,\n",
    ")\n",
    "\n",
    "lsoap_inv = clebsch_gordan.n_body_iteration_single_center(\n",
    "    [frame_inv],\n",
    "    rascal_hypers,\n",
    "    nu_target=2,\n",
    "    lambdas=lambdas,\n",
    ")\n",
    "\n",
    "# Invert the TensorMaps\n",
    "lsoap_uninv_inv = spherical.invert_tensormap(lsoap)\n",
    "\n",
    "# Check for equivariance!\n",
    "assert equistore.equal_metadata(lsoap_uninv_inv, lsoap_inv)\n",
    "for key in lsoap_inv.keys:\n",
    "    close = equistore.allclose_block(lsoap_uninv_inv[key], lsoap_inv[key])\n",
    "    print(key, close)\n",
    "    # if not close:\n",
    "    #     break\n",
    "# equistore.allclose_raise(lsoap_uninv_inv, lsoap_inv)\n",
    "# print(\"INVERSION EQUIVARIANT!\")"
   ]
  },
  {
   "cell_type": "code",
   "execution_count": 49,
   "metadata": {},
   "outputs": [
    {
     "data": {
      "text/plain": [
       "array([0., 0., 0., 0., 0.])"
      ]
     },
     "execution_count": 49,
     "metadata": {},
     "output_type": "execute_result"
    }
   ],
   "source": [
    "lsoap_uninv_inv.block(order_nu=2, inversion_sigma=-1, spherical_harmonics_l=2, species_center=22).values[0, ..., 0]"
   ]
  },
  {
   "cell_type": "code",
   "execution_count": 51,
   "metadata": {},
   "outputs": [
    {
     "data": {
      "text/plain": [
       "array([[[ 0.00000000e+00,  0.00000000e+00,  0.00000000e+00, ...,\n",
       "          1.74112929e-08, -2.46996381e-08, -4.00459763e-08],\n",
       "        [ 0.00000000e+00,  0.00000000e+00,  0.00000000e+00, ...,\n",
       "         -5.43871155e-10,  7.70527867e-10,  1.25186725e-09],\n",
       "        [ 0.00000000e+00,  0.00000000e+00,  0.00000000e+00, ...,\n",
       "         -2.09929680e-09,  2.97451559e-09,  4.83177337e-09],\n",
       "        [ 0.00000000e+00,  0.00000000e+00,  0.00000000e+00, ...,\n",
       "         -4.21231684e-08,  5.97620466e-08,  9.68773874e-08],\n",
       "        [ 0.00000000e+00,  0.00000000e+00,  0.00000000e+00, ...,\n",
       "          1.05008555e-09, -1.48888188e-09, -2.41593216e-09]],\n",
       "\n",
       "       [[ 5.77641685e-09, -1.10520104e-08,  3.05784221e-08, ...,\n",
       "          3.31438002e-06, -4.69593733e-06, -7.62865268e-06],\n",
       "        [ 3.52113221e-11, -6.64820657e-11,  1.88645904e-10, ...,\n",
       "         -1.00210410e-07,  1.41982231e-07,  2.30651638e-07],\n",
       "        [ 8.62442322e-11, -1.62836678e-10,  4.62056526e-10, ...,\n",
       "          1.00771627e-08, -1.42656815e-08, -2.32029603e-08],\n",
       "        [ 4.08445606e-09, -7.81478413e-09,  2.16217466e-08, ...,\n",
       "         -3.06243227e-06,  4.33897545e-06,  7.04874201e-06],\n",
       "        [ 4.97931307e-11, -9.40137997e-11,  2.66768459e-10, ...,\n",
       "          3.03024493e-08, -4.29163996e-08, -6.97570326e-08]],\n",
       "\n",
       "       [[-2.89809123e-09,  5.54467175e-09, -1.53421415e-08, ...,\n",
       "         -1.61405131e-06,  2.28690439e-06,  3.71499190e-06],\n",
       "        [ 3.54809005e-09, -6.78830461e-09,  1.87830411e-08, ...,\n",
       "         -2.70760855e-06,  3.83627574e-06,  6.23202632e-06],\n",
       "        [ 2.21766379e-12, -4.18714896e-12,  1.18812009e-11, ...,\n",
       "         -1.51589225e-08,  2.14453501e-08,  3.49169128e-08],\n",
       "        [-2.04953663e-09,  3.92120421e-09, -1.08499971e-08, ...,\n",
       "          1.41054804e-06, -1.99853556e-06, -3.24661975e-06],\n",
       "        [ 5.01708159e-09, -9.59882032e-09,  2.65596549e-08, ...,\n",
       "          2.88240218e-06, -4.08389902e-06, -6.63437092e-06]],\n",
       "\n",
       "       ...,\n",
       "\n",
       "       [[-1.26014906e-12,  2.41066958e-12, -6.67175035e-12, ...,\n",
       "          0.00000000e+00,  0.00000000e+00,  0.00000000e+00],\n",
       "        [-2.82617530e-13,  5.40648274e-13, -1.49629424e-12, ...,\n",
       "         -1.38259301e-07,  1.95891472e-07,  3.18228335e-07],\n",
       "        [-6.92603198e-13,  1.32495229e-12, -3.66692797e-12, ...,\n",
       "          0.00000000e+00,  0.00000000e+00,  0.00000000e+00],\n",
       "        [ 1.78213011e-12, -3.40922101e-12,  9.43533433e-12, ...,\n",
       "         -5.53732602e-09,  7.84573990e-09,  1.27449485e-08],\n",
       "        [-3.99616116e-13,  7.64467080e-13, -2.11573290e-12, ...,\n",
       "          0.00000000e+00,  0.00000000e+00,  0.00000000e+00]],\n",
       "\n",
       "       [[ 1.37624274e-12, -2.63296916e-12,  7.28586172e-12, ...,\n",
       "          0.00000000e+00,  0.00000000e+00,  0.00000000e+00],\n",
       "        [ 2.37340102e-12, -4.54068977e-12,  1.25648419e-11, ...,\n",
       "         -2.89341666e-08,  4.09949781e-08,  6.65972135e-08],\n",
       "        [-9.77191959e-13,  1.86952205e-12, -5.17327765e-12, ...,\n",
       "          0.00000000e+00,  0.00000000e+00,  0.00000000e+00],\n",
       "        [-9.09707010e-13,  1.74041275e-12, -4.81601064e-12, ...,\n",
       "         -2.59960994e-08,  3.68308839e-08,  5.98359139e-08],\n",
       "        [-1.25523198e-12,  2.40145645e-12, -6.64522803e-12, ...,\n",
       "          0.00000000e+00,  0.00000000e+00,  0.00000000e+00]],\n",
       "\n",
       "       [[ 1.07215234e-13, -2.05099578e-13,  5.67650670e-13, ...,\n",
       "          0.00000000e+00,  0.00000000e+00,  0.00000000e+00],\n",
       "        [-5.66542786e-13,  1.08377966e-12, -2.99955867e-12, ...,\n",
       "         -4.05338380e-08,  5.74301234e-08,  9.32957217e-08],\n",
       "        [-2.97565786e-13,  5.69234583e-13, -1.57546096e-12, ...,\n",
       "          0.00000000e+00,  0.00000000e+00,  0.00000000e+00],\n",
       "        [-4.67474364e-13,  8.94264680e-13, -2.47504131e-12, ...,\n",
       "          7.52065039e-08, -1.06555678e-07, -1.73101109e-07],\n",
       "        [ 5.29475372e-13, -1.01287082e-12,  2.80330530e-12, ...,\n",
       "          0.00000000e+00,  0.00000000e+00,  0.00000000e+00]]])"
      ]
     },
     "execution_count": 51,
     "metadata": {},
     "output_type": "execute_result"
    }
   ],
   "source": [
    "diff = equistore.subtract(lsoap_uninv_inv, lsoap_inv)\n",
    "diff.block(order_nu=2, inversion_sigma=-1, spherical_harmonics_l=2, species_center=22).values"
   ]
  },
  {
   "cell_type": "code",
   "execution_count": null,
   "metadata": {},
   "outputs": [],
   "source": [
    "LabelsEntry(order_nu=2, inversion_sigma=1, spherical_harmonics_l=0, species_center=3) True\n",
    "LabelsEntry(order_nu=2, inversion_sigma=1, spherical_harmonics_l=1, species_center=3) False\n",
    "LabelsEntry(order_nu=2, inversion_sigma=-1, spherical_harmonics_l=1, species_center=3) False\n",
    "LabelsEntry(order_nu=2, inversion_sigma=1, spherical_harmonics_l=2, species_center=3) True\n",
    "LabelsEntry(order_nu=2, inversion_sigma=-1, spherical_harmonics_l=2, species_center=3) True\n",
    "LabelsEntry(order_nu=2, inversion_sigma=1, spherical_harmonics_l=0, species_center=8) True\n",
    "LabelsEntry(order_nu=2, inversion_sigma=1, spherical_harmonics_l=1, species_center=8) False\n",
    "LabelsEntry(order_nu=2, inversion_sigma=-1, spherical_harmonics_l=1, species_center=8) False\n",
    "LabelsEntry(order_nu=2, inversion_sigma=1, spherical_harmonics_l=2, species_center=8) True\n",
    "LabelsEntry(order_nu=2, inversion_sigma=-1, spherical_harmonics_l=2, species_center=8) True\n",
    "LabelsEntry(order_nu=2, inversion_sigma=1, spherical_harmonics_l=0, species_center=22) True\n",
    "LabelsEntry(order_nu=2, inversion_sigma=1, spherical_harmonics_l=1, species_center=22) False\n",
    "LabelsEntry(order_nu=2, inversion_sigma=-1, spherical_harmonics_l=1, species_center=22) False\n",
    "LabelsEntry(order_nu=2, inversion_sigma=1, spherical_harmonics_l=2, species_center=22) True\n",
    "LabelsEntry(order_nu=2, inversion_sigma=-1, spherical_harmonics_l=2, species_center=22) True"
   ]
  },
  {
   "cell_type": "code",
   "execution_count": null,
   "metadata": {},
   "outputs": [],
   "source": [
    "LabelsEntry(order_nu=2, inversion_sigma=1, spherical_harmonics_l=0, species_center=3) False\n",
    "LabelsEntry(order_nu=2, inversion_sigma=1, spherical_harmonics_l=1, species_center=3) True\n",
    "LabelsEntry(order_nu=2, inversion_sigma=-1, spherical_harmonics_l=1, species_center=3) True\n",
    "LabelsEntry(order_nu=2, inversion_sigma=1, spherical_harmonics_l=2, species_center=3) False\n",
    "LabelsEntry(order_nu=2, inversion_sigma=-1, spherical_harmonics_l=2, species_center=3) False\n",
    "LabelsEntry(order_nu=2, inversion_sigma=1, spherical_harmonics_l=0, species_center=8) False\n",
    "LabelsEntry(order_nu=2, inversion_sigma=1, spherical_harmonics_l=1, species_center=8) True\n",
    "LabelsEntry(order_nu=2, inversion_sigma=-1, spherical_harmonics_l=1, species_center=8) True\n",
    "LabelsEntry(order_nu=2, inversion_sigma=1, spherical_harmonics_l=2, species_center=8) False\n",
    "LabelsEntry(order_nu=2, inversion_sigma=-1, spherical_harmonics_l=2, species_center=8) False\n",
    "LabelsEntry(order_nu=2, inversion_sigma=1, spherical_harmonics_l=0, species_center=22) False\n",
    "LabelsEntry(order_nu=2, inversion_sigma=1, spherical_harmonics_l=1, species_center=22) True\n",
    "LabelsEntry(order_nu=2, inversion_sigma=-1, spherical_harmonics_l=1, species_center=22) True\n",
    "LabelsEntry(order_nu=2, inversion_sigma=1, spherical_harmonics_l=2, species_center=22) False\n",
    "LabelsEntry(order_nu=2, inversion_sigma=-1, spherical_harmonics_l=2, species_center=22) False"
   ]
  },
  {
   "cell_type": "code",
   "execution_count": 28,
   "metadata": {},
   "outputs": [
    {
     "data": {
      "text/plain": [
       "1"
      ]
     },
     "execution_count": 28,
     "metadata": {},
     "output_type": "execute_result"
    }
   ],
   "source": [
    "lsoap_inv.keys[0][\"inversion_sigma\"]"
   ]
  },
  {
   "cell_type": "markdown",
   "metadata": {},
   "source": [
    "# Normalization Tests"
   ]
  },
  {
   "cell_type": "code",
   "execution_count": 7,
   "metadata": {},
   "outputs": [
    {
     "data": {
      "text/plain": [
       "TensorMap with 15 blocks\n",
       "keys: order_nu  inversion_sigma  spherical_harmonics_l  species_center\n",
       "         2             1                   0                  3\n",
       "         2             1                   1                  3\n",
       "                                    ...\n",
       "         2             1                   2                  22\n",
       "         2            -1                   2                  22"
      ]
     },
     "execution_count": 7,
     "metadata": {},
     "output_type": "execute_result"
    }
   ],
   "source": [
    "lsoap_new0 = clebsch_gordan.n_body_iteration_single_center(\n",
    "    frames,\n",
    "    rascal_hypers,\n",
    "    nu_target=2,\n",
    "    lambdas=lambdas,\n",
    "    lambda_cut=5,\n",
    ")\n",
    "lsoap_new0"
   ]
  },
  {
   "cell_type": "code",
   "execution_count": 8,
   "metadata": {},
   "outputs": [
    {
     "data": {
      "text/plain": [
       "TensorMap with 15 blocks\n",
       "keys: inversion_sigma  spherical_harmonics_l  species_center\n",
       "             1                   0                  3\n",
       "             1                   1                  3\n",
       "                               ...\n",
       "            -1                   1                  22\n",
       "            -1                   2                  22"
      ]
     },
     "execution_count": 8,
     "metadata": {},
     "output_type": "execute_result"
    }
   ],
   "source": [
    "lsoap_old0 = spherical.lambda_soap_vector(\n",
    "    frames,\n",
    "    rascal_hypers,\n",
    "    lambda_cut=5,\n",
    ")\n",
    "# Drop all odd parity keys/blocks\n",
    "keys_to_drop = Labels(\n",
    "    names=lsoap_old0.keys.names,\n",
    "    values=lsoap_old0.keys.values[[v not in lambdas for v in lsoap_old0.keys.column(\"spherical_harmonics_l\")]],\n",
    ")\n",
    "lsoap_old0 = equistore.drop_blocks(lsoap_old0, keys=keys_to_drop)\n",
    "lsoap_old0"
   ]
  },
  {
   "cell_type": "markdown",
   "metadata": {},
   "source": [
    "# Test system 1"
   ]
  },
  {
   "cell_type": "code",
   "execution_count": null,
   "metadata": {},
   "outputs": [],
   "source": [
    "%%timeit\n",
    "\n",
    "use_sparse = False\n",
    "\n",
    "tensor_dense = clebsch_gordan.n_body_iteration_single_center(\n",
    "    frames,\n",
    "    rascal_hypers=rascal_hypers,\n",
    "    nu_target=3,\n",
    "    lambdas=lambdas,\n",
    "    use_sparse=use_sparse,\n",
    ")\n",
    "tensor_dense\n",
    "\n",
    "# timeit comes out at about 22 seconds for nu_target = 3"
   ]
  },
  {
   "cell_type": "code",
   "execution_count": null,
   "metadata": {},
   "outputs": [],
   "source": [
    "%%timeit\n",
    "\n",
    "use_sparse = True\n",
    "\n",
    "tensor_sparse = clebsch_gordan.n_body_iteration_single_center(\n",
    "    frames,\n",
    "    rascal_hypers=rascal_hypers,\n",
    "    nu_target=3,\n",
    "    lambdas=lambdas,\n",
    "    use_sparse=use_sparse,\n",
    ")\n",
    "tensor_sparse\n",
    "\n",
    "# timeit comes out at about 13 seconds for nu_target = 3"
   ]
  },
  {
   "cell_type": "code",
   "execution_count": null,
   "metadata": {},
   "outputs": [],
   "source": [
    "tensor_sparse = clebsch_gordan.n_body_iteration_single_center(\n",
    "    frames,\n",
    "    rascal_hypers=rascal_hypers,\n",
    "    nu_target=3,\n",
    "    lambdas=lambdas,\n",
    "    use_sparse=True,\n",
    ")\n",
    "\n",
    "tensor_dense = clebsch_gordan.n_body_iteration_single_center(\n",
    "    frames,\n",
    "    rascal_hypers=rascal_hypers,\n",
    "    nu_target=3,\n",
    "    lambdas=lambdas,\n",
    "    use_sparse=False,\n",
    ")\n",
    "\n",
    "assert equistore.allclose(tensor_dense, tensor_sparse)"
   ]
  },
  {
   "cell_type": "markdown",
   "metadata": {},
   "source": [
    "# Test system 2"
   ]
  },
  {
   "cell_type": "code",
   "execution_count": null,
   "metadata": {},
   "outputs": [],
   "source": [
    "frames = [ase.io.read(\"frame.xyz\")]\n",
    "\n",
    "lambdas = np.array([0, 2])\n",
    "\n",
    "rascal_hypers = {\n",
    "    \"cutoff\": 3.0,  # Angstrom\n",
    "    \"max_radial\": 6,  # Exclusive\n",
    "    \"max_angular\": 5,  # Inclusive\n",
    "    \"atomic_gaussian_width\": 0.2,\n",
    "    \"radial_basis\": {\"Gto\": {}},\n",
    "    \"cutoff_function\": {\"ShiftedCosine\": {\"width\": 0.5}},\n",
    "    \"center_atom_weight\": 1.0,\n",
    "}\n",
    "\n",
    "n_body = clebsch_gordan.n_body_iteration_single_center(\n",
    "    frames,\n",
    "    rascal_hypers=rascal_hypers,\n",
    "    nu_target=3,\n",
    "    lambdas=lambdas,\n",
    ")\n",
    "n_body"
   ]
  },
  {
   "cell_type": "code",
   "execution_count": null,
   "metadata": {},
   "outputs": [],
   "source": [
    "# selected_samples = None\n",
    "# species_neighbors = [1, 8, 6]\n",
    "\n",
    "# calculator = rascaline.SphericalExpansion(**rascal_hypers)\n",
    "# nu1 = calculator.compute(frames, selected_samples=selected_samples)\n",
    "\n",
    "# # Move the \"species_neighbor\" key to the properties. If species_neighbors is\n",
    "# # passed as a list of int, sparsity can be created in the properties for\n",
    "# # these species.\n",
    "# if species_neighbors is None:\n",
    "#     keys_to_move = \"species_neighbor\"\n",
    "# else:\n",
    "#     keys_to_move = Labels(\n",
    "#         names=[\"species_neighbor\"],\n",
    "#         values=np.array(species_neighbors).reshape(-1, 1),\n",
    "#     )\n",
    "# nu1 = nu1.keys_to_properties(keys_to_move=keys_to_move)\n",
    "# nu1 = clebsch_gordan._add_nu_sigma_to_key_names(nu1)"
   ]
  }
 ],
 "metadata": {
  "kernelspec": {
   "display_name": "dev",
   "language": "python",
   "name": "python3"
  },
  "language_info": {
   "codemirror_mode": {
    "name": "ipython",
    "version": 3
   },
   "file_extension": ".py",
   "mimetype": "text/x-python",
   "name": "python",
   "nbconvert_exporter": "python",
   "pygments_lexer": "ipython3",
   "version": "3.10.9"
  },
  "orig_nbformat": 4
 },
 "nbformat": 4,
 "nbformat_minor": 2
}
