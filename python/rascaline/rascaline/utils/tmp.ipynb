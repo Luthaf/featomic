{
 "cells": [
  {
   "cell_type": "code",
   "execution_count": 1,
   "metadata": {},
   "outputs": [],
   "source": [
    "%load_ext autoreload\n",
    "%autoreload 2\n",
    "\n",
    "import ase.io\n",
    "import numpy as np\n",
    "\n",
    "import rascaline\n",
    "import equistore\n",
    "from equistore import Labels, TensorBlock, TensorMap\n",
    "import chemiscope\n",
    "\n",
    "# from rascaline.utils import clebsch_gordan\n",
    "import clebsch_gordan\n",
    "import old_clebsch_gordan\n",
    "import rotations"
   ]
  },
  {
   "cell_type": "code",
   "execution_count": 2,
   "metadata": {},
   "outputs": [],
   "source": [
    "frames = ase.io.read(\"combined_magres_spherical.xyz\", \":\")\n",
    "\n",
    "# Define hyperparameters for generating the rascaline SphericalExpansion\n",
    "rascal_hypers = {\n",
    "    \"cutoff\": 3.0,  # Angstrom\n",
    "    \"max_radial\": 6,  # Exclusive\n",
    "    \"max_angular\": 5,  # Inclusive\n",
    "    \"atomic_gaussian_width\": 0.2,\n",
    "    \"radial_basis\": {\"Gto\": {}},\n",
    "    \"cutoff_function\": {\"ShiftedCosine\": {\"width\": 0.5}},\n",
    "    \"center_atom_weight\": 1.0,\n",
    "}\n",
    "\n",
    "# chemiscope.show(frames, mode=\"structure\")"
   ]
  },
  {
   "cell_type": "markdown",
   "metadata": {},
   "source": [
    "# Equivariance Test - SO(3) for $\\nu=3$"
   ]
  },
  {
   "cell_type": "code",
   "execution_count": 3,
   "metadata": {},
   "outputs": [
    {
     "name": "stdout",
     "output_type": "stream",
     "text": [
      "Random rotation angles (rad): [5.94258177 1.33221078 0.11693219]\n",
      "SO(3) EQUIVARIANT!\n"
     ]
    }
   ],
   "source": [
    "# Define target lambda channels\n",
    "lambdas = np.array([0, 2])\n",
    "\n",
    "# Generate Wigner-D matrices, initialized with random angles\n",
    "wig = rotations.WignerDReal(lmax=rascal_hypers[\"max_angular\"])\n",
    "print(\"Random rotation angles (rad):\", wig.angles)\n",
    "\n",
    "# Randomly rigidly rotate the frame\n",
    "frames_so3 = [rotations.transform_frame_so3(frame, wig.angles) for frame in frames]\n",
    "assert not np.allclose(frames[-1].positions, frames_so3[-1].positions)\n",
    "\n",
    "# Generate nu=3 descriptor for both frames\n",
    "nu3 = clebsch_gordan.n_body_iteration_single_center(\n",
    "    frames,\n",
    "    rascal_hypers,\n",
    "    nu_target=3,\n",
    "    lambdas=lambdas,\n",
    "    only_keep_parity=+1,\n",
    ")\n",
    "\n",
    "nu3_rot = clebsch_gordan.n_body_iteration_single_center(\n",
    "    frames_so3,\n",
    "    rascal_hypers,\n",
    "    nu_target=3,\n",
    "    lambdas=lambdas,\n",
    "    only_keep_parity=+1,\n",
    ")\n",
    "\n",
    "# Rotate the lambda-SOAP descriptor of the unrotated frame\n",
    "nu3_transformed = wig.transform_tensormap_so3(nu3)\n",
    "\n",
    "# Check for equivariance!\n",
    "assert equistore.equal_metadata(nu3_transformed, nu3_rot)\n",
    "assert equistore.allclose(nu3_transformed, nu3_rot)\n",
    "print(\"SO(3) EQUIVARIANT!\")\n",
    "\n",
    "# chemiscope.show([frame, frame_so3], mode=\"structure\")"
   ]
  },
  {
   "cell_type": "markdown",
   "metadata": {},
   "source": [
    "# Equivariance Test - O(3) on $\\nu=2$ (i.e. $\\lambda$-SOAP)"
   ]
  },
  {
   "cell_type": "code",
   "execution_count": 4,
   "metadata": {},
   "outputs": [
    {
     "name": "stdout",
     "output_type": "stream",
     "text": [
      "Random rotation angles (rad): [2.07830924 0.730489   5.29996543]\n",
      "O(3) EQUIVARIANT!\n"
     ]
    }
   ],
   "source": [
    "# Define target lambda channels\n",
    "lambdas = np.array([0, 1, 2, 3, 4, 5])\n",
    "\n",
    "# Generate Wigner-D matrices, initialized with random angles\n",
    "wig = rotations.WignerDReal(lmax=rascal_hypers[\"max_angular\"])\n",
    "print(\"Random rotation angles (rad):\", wig.angles)\n",
    "\n",
    "# Apply an O(3) transformation to the frame\n",
    "frames_o3 = [rotations.transform_frame_o3(frame, wig.angles) for frame in frames]\n",
    "assert not np.allclose(frames[-1].positions, frames_o3[-1].positions)\n",
    "\n",
    "# Generate lambda-SOAP for both frames\n",
    "lsoap = clebsch_gordan.lambda_soap_vector(\n",
    "    frames,\n",
    "    rascal_hypers,\n",
    "    lambdas=lambdas,\n",
    "    only_keep_parity=+1,\n",
    ")\n",
    "\n",
    "lsoap_o3 = clebsch_gordan.lambda_soap_vector(\n",
    "    frames_o3,\n",
    "    rascal_hypers,\n",
    "    lambdas=lambdas,\n",
    "    only_keep_parity=+1,\n",
    ")\n",
    "\n",
    "# Apply the O(3) transformation to the TensorMap\n",
    "lsoap_transformed = wig.transform_tensormap_o3(lsoap)\n",
    "\n",
    "# Check for equivariance!\n",
    "assert equistore.equal_metadata(lsoap_transformed, lsoap_o3)\n",
    "assert equistore.allclose(lsoap_transformed, lsoap_o3)\n",
    "print(\"O(3) EQUIVARIANT!\")\n",
    "\n",
    "# chemiscope.show([frame, frame_o3], mode=\"structure\")"
   ]
  },
  {
   "cell_type": "markdown",
   "metadata": {},
   "source": [
    "# Old v new lambda-SOAP"
   ]
  },
  {
   "cell_type": "code",
   "execution_count": null,
   "metadata": {},
   "outputs": [],
   "source": [
    "# Define target lambda channels\n",
    "lambdas = np.arange(6)\n",
    "lambdas"
   ]
  },
  {
   "cell_type": "code",
   "execution_count": null,
   "metadata": {},
   "outputs": [],
   "source": [
    "lsoap_old = old_clebsch_gordan.lambda_soap_vector(\n",
    "    frames,\n",
    "    rascal_hypers,\n",
    "    lambdas=lambdas,\n",
    "    lambda_cut=8,\n",
    ")\n",
    "lsoap_old"
   ]
  },
  {
   "cell_type": "code",
   "execution_count": null,
   "metadata": {},
   "outputs": [],
   "source": [
    "lsoap_new = clebsch_gordan.lambda_soap_vector(\n",
    "    frames,\n",
    "    rascal_hypers,\n",
    "    lambdas=lambdas,\n",
    "    lambda_cut=8,\n",
    "    only_keep_parity=+1,\n",
    ")\n",
    "lsoap_new"
   ]
  },
  {
   "cell_type": "markdown",
   "metadata": {},
   "source": [
    "# Dense v Sparse"
   ]
  },
  {
   "cell_type": "code",
   "execution_count": null,
   "metadata": {},
   "outputs": [],
   "source": [
    "# Dense\n",
    "lsoap_new0 = clebsch_gordan.n_body_iteration_single_center(\n",
    "    frames,\n",
    "    rascal_hypers,\n",
    "    nu_target=2,\n",
    "    lambdas=lambdas,\n",
    "    lambda_cut=5,\n",
    "    use_sparse=False,\n",
    ")\n",
    "lsoap_new0"
   ]
  },
  {
   "cell_type": "code",
   "execution_count": null,
   "metadata": {},
   "outputs": [],
   "source": [
    "# Sparse\n",
    "lsoap_new1 = clebsch_gordan.n_body_iteration_single_center(\n",
    "    frames,\n",
    "    rascal_hypers,\n",
    "    nu_target=2,\n",
    "    lambdas=lambdas,\n",
    "    lambda_cut=5,\n",
    "    use_sparse=True,\n",
    "    only_keep_parity=+1,\n",
    ")\n",
    "lsoap_new1"
   ]
  },
  {
   "cell_type": "code",
   "execution_count": null,
   "metadata": {},
   "outputs": [],
   "source": [
    "# Check sparse == dense\n",
    "equistore.allclose(lsoap_new0, lsoap_new1)"
   ]
  },
  {
   "cell_type": "markdown",
   "metadata": {},
   "source": [
    "# Test system 1"
   ]
  },
  {
   "cell_type": "code",
   "execution_count": null,
   "metadata": {},
   "outputs": [],
   "source": [
    "%%timeit\n",
    "\n",
    "use_sparse = False\n",
    "\n",
    "tensor_dense = clebsch_gordan.n_body_iteration_single_center(\n",
    "    frames,\n",
    "    rascal_hypers=rascal_hypers,\n",
    "    nu_target=3,\n",
    "    lambdas=lambdas,\n",
    "    use_sparse=use_sparse,\n",
    ")\n",
    "tensor_dense\n",
    "\n",
    "# timeit comes out at about 22 seconds for nu_target = 3"
   ]
  },
  {
   "cell_type": "code",
   "execution_count": null,
   "metadata": {},
   "outputs": [],
   "source": [
    "%%timeit\n",
    "\n",
    "use_sparse = True\n",
    "\n",
    "tensor_sparse = clebsch_gordan.n_body_iteration_single_center(\n",
    "    frames,\n",
    "    rascal_hypers=rascal_hypers,\n",
    "    nu_target=3,\n",
    "    lambdas=lambdas,\n",
    "    use_sparse=use_sparse,\n",
    ")\n",
    "tensor_sparse\n",
    "\n",
    "# timeit comes out at about 13 seconds for nu_target = 3"
   ]
  },
  {
   "cell_type": "code",
   "execution_count": null,
   "metadata": {},
   "outputs": [],
   "source": [
    "tensor_sparse = clebsch_gordan.n_body_iteration_single_center(\n",
    "    frames,\n",
    "    rascal_hypers=rascal_hypers,\n",
    "    nu_target=3,\n",
    "    lambdas=lambdas,\n",
    "    use_sparse=True,\n",
    ")\n",
    "\n",
    "tensor_dense = clebsch_gordan.n_body_iteration_single_center(\n",
    "    frames,\n",
    "    rascal_hypers=rascal_hypers,\n",
    "    nu_target=3,\n",
    "    lambdas=lambdas,\n",
    "    use_sparse=False,\n",
    ")\n",
    "\n",
    "assert equistore.allclose(tensor_dense, tensor_sparse)"
   ]
  },
  {
   "cell_type": "markdown",
   "metadata": {},
   "source": [
    "# Test system 2"
   ]
  },
  {
   "cell_type": "code",
   "execution_count": null,
   "metadata": {},
   "outputs": [],
   "source": [
    "frames = [ase.io.read(\"frame.xyz\")]\n",
    "\n",
    "lambdas = np.array([0, 2])\n",
    "\n",
    "rascal_hypers = {\n",
    "    \"cutoff\": 3.0,  # Angstrom\n",
    "    \"max_radial\": 6,  # Exclusive\n",
    "    \"max_angular\": 5,  # Inclusive\n",
    "    \"atomic_gaussian_width\": 0.2,\n",
    "    \"radial_basis\": {\"Gto\": {}},\n",
    "    \"cutoff_function\": {\"ShiftedCosine\": {\"width\": 0.5}},\n",
    "    \"center_atom_weight\": 1.0,\n",
    "}\n",
    "\n",
    "n_body = clebsch_gordan.n_body_iteration_single_center(\n",
    "    frames,\n",
    "    rascal_hypers=rascal_hypers,\n",
    "    nu_target=3,\n",
    "    lambdas=lambdas,\n",
    ")\n",
    "n_body"
   ]
  },
  {
   "cell_type": "code",
   "execution_count": null,
   "metadata": {},
   "outputs": [],
   "source": [
    "def sort_tm(tm):\n",
    "    blocks = []\n",
    "    for _, block in tm.items():\n",
    "        values = block.values\n",
    "\n",
    "        samples_values = block.samples.values\n",
    "        sorted_idx = native_list_argsort([tuple(row.tolist()) for row in block.samples.values])\n",
    "        samples_values = samples_values[sorted_idx]\n",
    "        values = values[sorted_idx]\n",
    "\n",
    "        components_values = []\n",
    "        for i, component in enumerate(block.components):\n",
    "            component_values = component.values\n",
    "            sorted_idx = native_list_argsort([tuple(row.tolist()) for row in component.values])\n",
    "            components_values.append( component_values[sorted_idx] )\n",
    "            values = np.take(values, sorted_idx, axis=i+1)\n",
    "\n",
    "        properties_values = block.properties.values\n",
    "        sorted_idx = native_list_argsort([tuple(row.tolist()) for row in block.properties.values])\n",
    "        properties_values = properties_values[sorted_idx]\n",
    "        values = values[..., sorted_idx]\n",
    "\n",
    "        blocks.append(\n",
    "            TensorBlock(\n",
    "                values=values,\n",
    "                samples=Labels(values=samples_values, names=block.samples.names),\n",
    "                components=[Labels(values=components_values[i], names=component.names) for i, component in enumerate(block.components)],\n",
    "                properties=Labels(values=properties_values, names=block.properties.names)\n",
    "            )\n",
    "        )\n",
    "    return TensorMap(keys=tm.keys, blocks=blocks)\n",
    "\n",
    "\n",
    "def native_list_argsort(native_list):\n",
    "    return sorted(range(len(native_list)), key=native_list.__getitem__)\n"
   ]
  },
  {
   "cell_type": "code",
   "execution_count": null,
   "metadata": {},
   "outputs": [],
   "source": [
    "\n",
    "# Manipulate metadata from old LSOAP\n",
    "lsoap_old = equistore.permute_dimensions(lsoap_old0, axis=\"properties\", dimensions_indexes=[2, 5, 0, 1, 3, 4])\n",
    "lsoap_old = equistore.rename_dimension(lsoap_old, axis=\"properties\", old=\"l_1\", new=\"l1\")\n",
    "lsoap_old = equistore.rename_dimension(lsoap_old, axis=\"properties\", old=\"l_2\", new=\"l2\")\n",
    "lsoap_old = equistore.rename_dimension(lsoap_old, axis=\"properties\", old=\"n_1\", new=\"n1\")\n",
    "lsoap_old = equistore.rename_dimension(lsoap_old, axis=\"properties\", old=\"n_2\", new=\"n2\")\n",
    "\n",
    "# Slice TM to symmetrize l-values\n",
    "sliced_blocks = []\n",
    "for key, block in lsoap_old.items():\n",
    "    # Filter properties l1 <= l2\n",
    "    mask = [entry[0] <= entry[1] for entry in block.properties]\n",
    "    new_labels = Labels(names=block.properties.names, values=block.properties.values[mask])\n",
    "\n",
    "    # Slice block\n",
    "    sliced_block = equistore.slice_block(block, axis=\"properties\", labels=new_labels)\n",
    "    sliced_blocks.append(sliced_block)\n",
    "\n",
    "# Check equal metadata\n",
    "lsoap_old = sort_tm(TensorMap(keys=lsoap_old.keys, blocks=sliced_blocks))\n",
    "lsoap_new = sort_tm(lsoap_new0)\n",
    "assert equistore.equal_metadata(lsoap_old, lsoap_new)\n",
    "\n",
    "# Check equal values\n",
    "equistore.allclose_raise(lsoap_old, lsoap_new)"
   ]
  },
  {
   "cell_type": "code",
   "execution_count": null,
   "metadata": {},
   "outputs": [],
   "source": [
    "for key in lsoap_old.keys:\n",
    "    b1 = lsoap_old[key]\n",
    "    b2 = lsoap_new[key]\n",
    "\n",
    "    print(key, equistore.allclose_block(b1, b2))"
   ]
  },
  {
   "cell_type": "code",
   "execution_count": null,
   "metadata": {},
   "outputs": [],
   "source": [
    "np.linalg.norm(\n",
    "    lsoap_old.block(inversion_sigma=1, spherical_harmonics_l=1, species_center=3).values\n",
    "    - lsoap_new.block(\n",
    "        inversion_sigma=1, spherical_harmonics_l=1, species_center=3\n",
    "    ).values\n",
    ")"
   ]
  },
  {
   "cell_type": "code",
   "execution_count": null,
   "metadata": {},
   "outputs": [],
   "source": [
    "# NOW SLICE TO l1 == l2\n",
    "\n",
    "# Slice TM\n",
    "sliced_blocks = []\n",
    "for key, block in lsoap_old.items():\n",
    "    # Filter properties\n",
    "    mask = [entry[0] == entry[1] for entry in block.properties]\n",
    "    new_labels = Labels(names=block.properties.names, values=block.properties.values[mask])\n",
    "\n",
    "    # Slice block\n",
    "    sliced_blocks.append(equistore.slice_block(block, axis=\"properties\", labels=new_labels))\n",
    "\n",
    "lsoap_old_sliced = TensorMap(keys=lsoap_old.keys, blocks=sliced_blocks)\n",
    "\n",
    "# Slice TM\n",
    "sliced_blocks = []\n",
    "for key, block in lsoap_new.items():\n",
    "    # Filter properties\n",
    "    mask = [entry[0] == entry[1] for entry in block.properties]\n",
    "    new_labels = Labels(names=block.properties.names, values=block.properties.values[mask])\n",
    "\n",
    "    # Slice block\n",
    "    sliced_blocks.append(equistore.slice_block(block, axis=\"properties\", labels=new_labels))\n",
    "\n",
    "lsoap_new_sliced = TensorMap(keys=lsoap_new.keys, blocks=sliced_blocks)\n",
    "\n",
    "assert equistore.equal_metadata(lsoap_old_sliced, lsoap_new_sliced)\n",
    "assert equistore.allclose_raise(lsoap_old_sliced, lsoap_new_sliced)"
   ]
  }
 ],
 "metadata": {
  "kernelspec": {
   "display_name": "dev",
   "language": "python",
   "name": "python3"
  },
  "language_info": {
   "codemirror_mode": {
    "name": "ipython",
    "version": 3
   },
   "file_extension": ".py",
   "mimetype": "text/x-python",
   "name": "python",
   "nbconvert_exporter": "python",
   "pygments_lexer": "ipython3",
   "version": "3.10.9"
  },
  "orig_nbformat": 4
 },
 "nbformat": 4,
 "nbformat_minor": 2
}
