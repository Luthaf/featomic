{
 "cells": [
  {
   "cell_type": "code",
   "execution_count": null,
   "metadata": {},
   "outputs": [],
   "source": [
    "%load_ext autoreload\n",
    "%autoreload 2\n",
    "\n",
    "import ase.io\n",
    "import numpy as np\n",
    "\n",
    "import rascaline\n",
    "import equistore\n",
    "from equistore import Labels, TensorBlock, TensorMap\n",
    "\n",
    "# from rascaline.utils import clebsch_gordan\n",
    "import clebsch_gordan"
   ]
  },
  {
   "cell_type": "code",
   "execution_count": null,
   "metadata": {},
   "outputs": [],
   "source": [
    "frames = [ase.io.read(\"frame.xyz\")]\n",
    "\n",
    "lmax = 5\n",
    "lambdas = np.array([0, 2])\n",
    "rascal_hypers = {\n",
    "    \"cutoff\": 3.0,  # Angstrom\n",
    "    \"max_radial\": 6,  # Exclusive\n",
    "    \"max_angular\": lmax,  # Inclusive\n",
    "    \"atomic_gaussian_width\": 0.2,\n",
    "    \"radial_basis\": {\"Gto\": {}},\n",
    "    \"cutoff_function\": {\"ShiftedCosine\": {\"width\": 0.5}},\n",
    "    \"center_atom_weight\": 1.0,\n",
    "}\n",
    "\n",
    "n_body = clebsch_gordan.n_body_iteration_single_center(\n",
    "    frames,\n",
    "    rascal_hypers=rascal_hypers,\n",
    "    nu_target=3,\n",
    "    lambdas=lambdas,\n",
    "    lambda_cut=lmax * 2,\n",
    "    species_neighbors=[1, 8, 6],\n",
    ")\n",
    "n_body"
   ]
  },
  {
   "cell_type": "code",
   "execution_count": null,
   "metadata": {},
   "outputs": [],
   "source": [
    "selected_samples = None\n",
    "species_neighbors = [1, 8, 6]\n",
    "\n",
    "calculator = rascaline.SphericalExpansion(**rascal_hypers)\n",
    "nu1 = calculator.compute(frames, selected_samples=selected_samples)\n",
    "\n",
    "# Move the \"species_neighbor\" key to the properties. If species_neighbors is\n",
    "# passed as a list of int, sparsity can be created in the properties for\n",
    "# these species.\n",
    "if species_neighbors is None:\n",
    "    keys_to_move = \"species_neighbor\"\n",
    "else:\n",
    "    keys_to_move = Labels(\n",
    "        names=[\"species_neighbor\"],\n",
    "        values=np.array(species_neighbors).reshape(-1, 1),\n",
    "    )\n",
    "nu1 = nu1.keys_to_properties(keys_to_move=keys_to_move)\n",
    "nu1 = clebsch_gordan._add_nu_sigma_to_key_names(nu1)"
   ]
  }
 ],
 "metadata": {
  "kernelspec": {
   "display_name": "dev",
   "language": "python",
   "name": "python3"
  },
  "language_info": {
   "codemirror_mode": {
    "name": "ipython",
    "version": 3
   },
   "file_extension": ".py",
   "mimetype": "text/x-python",
   "name": "python",
   "nbconvert_exporter": "python",
   "pygments_lexer": "ipython3",
   "version": "3.10.9"
  },
  "orig_nbformat": 4
 },
 "nbformat": 4,
 "nbformat_minor": 2
}
