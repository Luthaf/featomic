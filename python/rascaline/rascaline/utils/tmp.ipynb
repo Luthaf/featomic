{
 "cells": [
  {
   "cell_type": "code",
   "execution_count": 1,
   "metadata": {},
   "outputs": [],
   "source": [
    "%load_ext autoreload\n",
    "%autoreload 2\n",
    "\n",
    "import ase.io\n",
    "import numpy as np\n",
    "\n",
    "import rascaline\n",
    "import equistore\n",
    "from equistore import Labels, TensorBlock, TensorMap\n",
    "import chemiscope\n",
    "\n",
    "# from rascaline.utils import clebsch_gordan\n",
    "import clebsch_gordan\n",
    "import old_clebsch_gordan\n",
    "import rotations"
   ]
  },
  {
   "cell_type": "code",
   "execution_count": 2,
   "metadata": {},
   "outputs": [],
   "source": [
    "frames = ase.io.read(\"combined_magres_spherical.xyz\", \":\")\n",
    "\n",
    "# Define hyperparameters for generating the rascaline SphericalExpansion\n",
    "rascal_hypers = {\n",
    "    \"cutoff\": 3.0,  # Angstrom\n",
    "    \"max_radial\": 6,  # Exclusive\n",
    "    \"max_angular\": 5,  # Inclusive\n",
    "    \"atomic_gaussian_width\": 0.2,\n",
    "    \"radial_basis\": {\"Gto\": {}},\n",
    "    \"cutoff_function\": {\"ShiftedCosine\": {\"width\": 0.5}},\n",
    "    \"center_atom_weight\": 1.0,\n",
    "}\n",
    "\n",
    "# chemiscope.show(frames, mode=\"structure\")"
   ]
  },
  {
   "cell_type": "markdown",
   "metadata": {},
   "source": [
    "# Equivariance Test - SO(3) for $\\nu=3$"
   ]
  },
  {
   "cell_type": "code",
   "execution_count": 3,
   "metadata": {},
   "outputs": [
    {
     "name": "stdout",
     "output_type": "stream",
     "text": [
      "Random rotation angles (rad): [2.71801454 5.20220183 3.836667  ]\n",
      "SO(3) EQUIVARIANT!\n"
     ]
    }
   ],
   "source": [
    "# Define target lambda channels\n",
    "lambdas = np.array([0, 1, 2])\n",
    "\n",
    "# Pick a test frame\n",
    "frame = frames[0]\n",
    "\n",
    "# Generate Wigner-D matrices, initialized with random angles\n",
    "wig = rotations.WignerDReal(lmax=rascal_hypers[\"max_angular\"])\n",
    "print(\"Random rotation angles (rad):\", wig.angles)\n",
    "\n",
    "# Randomly rigidly rotate the frame\n",
    "frame_so3 = rotations.transform_frame_so3(frame, wig.angles)\n",
    "assert not np.allclose(frame.positions, frame_so3.positions)\n",
    "\n",
    "# Generate nu=3 descriptor for both frames\n",
    "nu3 = clebsch_gordan.n_body_iteration_single_center(\n",
    "    [frame],\n",
    "    rascal_hypers,\n",
    "    nu_target=3,\n",
    "    lambdas=lambdas,\n",
    "    only_keep_parity=+1,\n",
    ")\n",
    "\n",
    "nu3_rot = clebsch_gordan.n_body_iteration_single_center(\n",
    "    [frame_so3],\n",
    "    rascal_hypers,\n",
    "    nu_target=3,\n",
    "    lambdas=lambdas,\n",
    "    only_keep_parity=+1,\n",
    ")\n",
    "\n",
    "# Rotate the lambda-SOAP descriptor of the unrotated frame\n",
    "nu3_unrot_rot = wig.transform_tensormap_so3(nu3)\n",
    "\n",
    "# Check for equivariance!\n",
    "assert equistore.equal_metadata(nu3_unrot_rot, nu3_rot)\n",
    "assert equistore.allclose(nu3_unrot_rot, nu3_rot)\n",
    "print(\"SO(3) EQUIVARIANT!\")\n",
    "\n",
    "# chemiscope.show([frame, frame_so3], mode=\"structure\")"
   ]
  },
  {
   "cell_type": "markdown",
   "metadata": {},
   "source": [
    "# Equivariance Test - O(3) on $\\nu=2$ (i.e. $\\lambda$-SOAP)"
   ]
  },
  {
   "cell_type": "code",
   "execution_count": 4,
   "metadata": {},
   "outputs": [
    {
     "name": "stdout",
     "output_type": "stream",
     "text": [
      "Random rotation angles (rad): [3.6769499  0.25087312 3.97576283]\n",
      "O(3) EQUIVARIANT!\n"
     ]
    }
   ],
   "source": [
    "# Define target lambda channels\n",
    "lambdas = np.array([0, 1, 2, 3, 4, 5])\n",
    "\n",
    "# Pick a test frame\n",
    "frame = frames[0]\n",
    "\n",
    "# Generate Wigner-D matrices, initialized with random angles\n",
    "wig = rotations.WignerDReal(lmax=rascal_hypers[\"max_angular\"])\n",
    "print(\"Random rotation angles (rad):\", wig.angles)\n",
    "\n",
    "# Apply an O(3) transformation to the frame\n",
    "frame_o3 = rotations.transform_frame_o3(frame, wig.angles)\n",
    "assert not np.allclose(frame.positions, frame_o3.positions)\n",
    "\n",
    "# Generate lambda-SOAP for both frames\n",
    "lsoap = clebsch_gordan.lambda_soap_vector(\n",
    "    [frame],\n",
    "    rascal_hypers,\n",
    "    lambdas=lambdas,\n",
    "    only_keep_parity=+1,\n",
    ")\n",
    "\n",
    "lsoap_o3 = clebsch_gordan.lambda_soap_vector(\n",
    "    [frame_o3],\n",
    "    rascal_hypers,\n",
    "    lambdas=lambdas,\n",
    "    only_keep_parity=+1,\n",
    ")\n",
    "\n",
    "# Apply the O(3) transformation to the TensorMap\n",
    "lsoap_transformed = wig.transform_tensormap_o3(lsoap)\n",
    "\n",
    "# Check for equivariance!\n",
    "assert equistore.equal_metadata(lsoap_transformed, lsoap_o3)\n",
    "assert equistore.allclose(lsoap_transformed, lsoap_o3)\n",
    "print(\"O(3) EQUIVARIANT!\")\n",
    "\n",
    "# chemiscope.show([frame, frame_o3], mode=\"structure\")"
   ]
  },
  {
   "cell_type": "markdown",
   "metadata": {},
   "source": [
    "# Old v new lambda-SOAP"
   ]
  },
  {
   "cell_type": "code",
   "execution_count": 5,
   "metadata": {},
   "outputs": [
    {
     "data": {
      "text/plain": [
       "array([0, 1, 2, 3, 4, 5])"
      ]
     },
     "execution_count": 5,
     "metadata": {},
     "output_type": "execute_result"
    }
   ],
   "source": [
    "# Define target lambda channels\n",
    "lambdas = np.arange(6)\n",
    "lambdas"
   ]
  },
  {
   "cell_type": "code",
   "execution_count": 6,
   "metadata": {},
   "outputs": [
    {
     "data": {
      "text/plain": [
       "TensorMap with 33 blocks\n",
       "keys: inversion_sigma  spherical_harmonics_l  species_center\n",
       "             1                   0                  3\n",
       "             1                   1                  3\n",
       "                               ...\n",
       "            -1                   4                  22\n",
       "            -1                   5                  22"
      ]
     },
     "execution_count": 6,
     "metadata": {},
     "output_type": "execute_result"
    }
   ],
   "source": [
    "lsoap_old = old_clebsch_gordan.lambda_soap_vector(\n",
    "    frames,\n",
    "    rascal_hypers,\n",
    "    lambdas=lambdas,\n",
    "    lambda_cut=8,\n",
    ")\n",
    "lsoap_old"
   ]
  },
  {
   "cell_type": "code",
   "execution_count": 10,
   "metadata": {},
   "outputs": [
    {
     "data": {
      "text/plain": [
       "TensorMap with 18 blocks\n",
       "keys: spherical_harmonics_l  species_center\n",
       "                0                  3\n",
       "                1                  3\n",
       "                      ...\n",
       "                4                  22\n",
       "                5                  22"
      ]
     },
     "execution_count": 10,
     "metadata": {},
     "output_type": "execute_result"
    }
   ],
   "source": [
    "lsoap_new = clebsch_gordan.lambda_soap_vector(\n",
    "    frames,\n",
    "    rascal_hypers,\n",
    "    lambdas=lambdas,\n",
    "    lambda_cut=8,\n",
    "    only_keep_parity=+1,\n",
    ")\n",
    "lsoap_new"
   ]
  },
  {
   "cell_type": "markdown",
   "metadata": {},
   "source": [
    "# Dense v Sparse"
   ]
  },
  {
   "cell_type": "code",
   "execution_count": null,
   "metadata": {},
   "outputs": [],
   "source": [
    "# Dense\n",
    "lsoap_new0 = clebsch_gordan.n_body_iteration_single_center(\n",
    "    frames,\n",
    "    rascal_hypers,\n",
    "    nu_target=2,\n",
    "    lambdas=lambdas,\n",
    "    lambda_cut=5,\n",
    "    use_sparse=False,\n",
    ")\n",
    "lsoap_new0"
   ]
  },
  {
   "cell_type": "code",
   "execution_count": null,
   "metadata": {},
   "outputs": [],
   "source": [
    "# Sparse\n",
    "lsoap_new1 = clebsch_gordan.n_body_iteration_single_center(\n",
    "    frames,\n",
    "    rascal_hypers,\n",
    "    nu_target=2,\n",
    "    lambdas=lambdas,\n",
    "    lambda_cut=5,\n",
    "    use_sparse=True,\n",
    "    only_keep_parity=+1,\n",
    ")\n",
    "lsoap_new1"
   ]
  },
  {
   "cell_type": "code",
   "execution_count": null,
   "metadata": {},
   "outputs": [],
   "source": [
    "# Check sparse == dense\n",
    "equistore.allclose(lsoap_new0, lsoap_new1)"
   ]
  },
  {
   "cell_type": "markdown",
   "metadata": {},
   "source": [
    "# Test system 1"
   ]
  },
  {
   "cell_type": "code",
   "execution_count": null,
   "metadata": {},
   "outputs": [],
   "source": [
    "%%timeit\n",
    "\n",
    "use_sparse = False\n",
    "\n",
    "tensor_dense = clebsch_gordan.n_body_iteration_single_center(\n",
    "    frames,\n",
    "    rascal_hypers=rascal_hypers,\n",
    "    nu_target=3,\n",
    "    lambdas=lambdas,\n",
    "    use_sparse=use_sparse,\n",
    ")\n",
    "tensor_dense\n",
    "\n",
    "# timeit comes out at about 22 seconds for nu_target = 3"
   ]
  },
  {
   "cell_type": "code",
   "execution_count": null,
   "metadata": {},
   "outputs": [],
   "source": [
    "%%timeit\n",
    "\n",
    "use_sparse = True\n",
    "\n",
    "tensor_sparse = clebsch_gordan.n_body_iteration_single_center(\n",
    "    frames,\n",
    "    rascal_hypers=rascal_hypers,\n",
    "    nu_target=3,\n",
    "    lambdas=lambdas,\n",
    "    use_sparse=use_sparse,\n",
    ")\n",
    "tensor_sparse\n",
    "\n",
    "# timeit comes out at about 13 seconds for nu_target = 3"
   ]
  },
  {
   "cell_type": "code",
   "execution_count": null,
   "metadata": {},
   "outputs": [],
   "source": [
    "tensor_sparse = clebsch_gordan.n_body_iteration_single_center(\n",
    "    frames,\n",
    "    rascal_hypers=rascal_hypers,\n",
    "    nu_target=3,\n",
    "    lambdas=lambdas,\n",
    "    use_sparse=True,\n",
    ")\n",
    "\n",
    "tensor_dense = clebsch_gordan.n_body_iteration_single_center(\n",
    "    frames,\n",
    "    rascal_hypers=rascal_hypers,\n",
    "    nu_target=3,\n",
    "    lambdas=lambdas,\n",
    "    use_sparse=False,\n",
    ")\n",
    "\n",
    "assert equistore.allclose(tensor_dense, tensor_sparse)"
   ]
  },
  {
   "cell_type": "markdown",
   "metadata": {},
   "source": [
    "# Test system 2"
   ]
  },
  {
   "cell_type": "code",
   "execution_count": null,
   "metadata": {},
   "outputs": [],
   "source": [
    "frames = [ase.io.read(\"frame.xyz\")]\n",
    "\n",
    "lambdas = np.array([0, 2])\n",
    "\n",
    "rascal_hypers = {\n",
    "    \"cutoff\": 3.0,  # Angstrom\n",
    "    \"max_radial\": 6,  # Exclusive\n",
    "    \"max_angular\": 5,  # Inclusive\n",
    "    \"atomic_gaussian_width\": 0.2,\n",
    "    \"radial_basis\": {\"Gto\": {}},\n",
    "    \"cutoff_function\": {\"ShiftedCosine\": {\"width\": 0.5}},\n",
    "    \"center_atom_weight\": 1.0,\n",
    "}\n",
    "\n",
    "n_body = clebsch_gordan.n_body_iteration_single_center(\n",
    "    frames,\n",
    "    rascal_hypers=rascal_hypers,\n",
    "    nu_target=3,\n",
    "    lambdas=lambdas,\n",
    ")\n",
    "n_body"
   ]
  }
 ],
 "metadata": {
  "kernelspec": {
   "display_name": "dev",
   "language": "python",
   "name": "python3"
  },
  "language_info": {
   "codemirror_mode": {
    "name": "ipython",
    "version": 3
   },
   "file_extension": ".py",
   "mimetype": "text/x-python",
   "name": "python",
   "nbconvert_exporter": "python",
   "pygments_lexer": "ipython3",
   "version": "3.10.9"
  },
  "orig_nbformat": 4
 },
 "nbformat": 4,
 "nbformat_minor": 2
}
