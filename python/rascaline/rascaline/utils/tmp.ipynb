{
 "cells": [
  {
   "cell_type": "code",
   "execution_count": 1,
   "metadata": {},
   "outputs": [],
   "source": [
    "%load_ext autoreload\n",
    "%autoreload 2\n",
    "\n",
    "import ase.io\n",
    "import numpy as np\n",
    "\n",
    "import rascaline\n",
    "import equistore\n",
    "from equistore import Labels, TensorBlock, TensorMap\n",
    "import chemiscope\n",
    "\n",
    "# from rascaline.utils import clebsch_gordan\n",
    "import clebsch_gordan\n",
    "import spherical"
   ]
  },
  {
   "cell_type": "code",
   "execution_count": 2,
   "metadata": {},
   "outputs": [],
   "source": [
    "frames = ase.io.read(\"combined_magres_spherical.xyz\", \":\")\n",
    "\n",
    "# Define hyperparameters for generating the rascaline SphericalExpansion\n",
    "rascal_hypers = {\n",
    "    \"cutoff\": 3.0,  # Angstrom\n",
    "    \"max_radial\": 6,  # Exclusive\n",
    "    \"max_angular\": 5,  # Inclusive\n",
    "    \"atomic_gaussian_width\": 0.2,\n",
    "    \"radial_basis\": {\"Gto\": {}},\n",
    "    \"cutoff_function\": {\"ShiftedCosine\": {\"width\": 0.5}},\n",
    "    \"center_atom_weight\": 1.0,\n",
    "}\n",
    "\n",
    "# chemiscope.show(frames, mode=\"structure\")"
   ]
  },
  {
   "cell_type": "markdown",
   "metadata": {},
   "source": [
    "# Equivariance Test - SO(3) for $\\nu=3$"
   ]
  },
  {
   "cell_type": "code",
   "execution_count": 3,
   "metadata": {},
   "outputs": [
    {
     "name": "stdout",
     "output_type": "stream",
     "text": [
      "Random rotation angles (rad): 1.4521811579492145 2.2229088215428923 1.1400953735068622\n",
      "SO(3) EQUIVARIANT!\n"
     ]
    }
   ],
   "source": [
    "# Define target lambda channels\n",
    "lambdas = np.array([0, 1, 2])\n",
    "\n",
    "# Pick a test frame\n",
    "frame = frames[0]\n",
    "\n",
    "# Randomly rigidly rotate the frame\n",
    "frame_rot, (a, b, c) = spherical.rotate_ase_frame(frame)\n",
    "print(\"Random rotation angles (rad):\", a, b, c)\n",
    "assert not np.all(frame.positions == frame_rot.positions)\n",
    "\n",
    "# Generate nu=3 descriptor for both frames\n",
    "nu3 = clebsch_gordan.n_body_iteration_single_center(\n",
    "    [frame],\n",
    "    rascal_hypers,\n",
    "    nu_target=3,\n",
    "    lambdas=lambdas,\n",
    ")\n",
    "\n",
    "nu3_rot = clebsch_gordan.n_body_iteration_single_center(\n",
    "    [frame_rot],\n",
    "    rascal_hypers,\n",
    "    nu_target=3,\n",
    "    lambdas=lambdas,\n",
    ")\n",
    "\n",
    "# Build a Wigner-D Matrix from the random rotation angles\n",
    "wig = spherical.WignerDReal(rascal_hypers[\"max_angular\"], a, b, c)\n",
    "\n",
    "# Rotate the lambda-SOAP descriptor of the unrotated frame\n",
    "nu3_unrot_rot = wig.rotate_tensormap(nu3)\n",
    "\n",
    "# Check for equivariance!\n",
    "assert equistore.equal_metadata(nu3_unrot_rot, nu3_rot)\n",
    "assert equistore.allclose(nu3_unrot_rot, nu3_rot)\n",
    "print(\"SO(3) EQUIVARIANT!\")\n",
    "\n",
    "# chemiscope.show([frames[0], frame_rot], mode=\"structure\")"
   ]
  },
  {
   "cell_type": "markdown",
   "metadata": {},
   "source": [
    "# Equivariance Test - O(3) on $\\nu=2$ (i.e. $\\lambda$-SOAP)"
   ]
  },
  {
   "cell_type": "code",
   "execution_count": 4,
   "metadata": {},
   "outputs": [
    {
     "name": "stdout",
     "output_type": "stream",
     "text": [
      "Random rotation angles (rad): 1.5925083910906 0.10309657050925311 1.435700350750785\n",
      "O(3) EQUIVARIANT!\n"
     ]
    }
   ],
   "source": [
    "# Define target lambda channels\n",
    "lambdas = np.array([0, 1, 2, 3, 4, 5])\n",
    "\n",
    "# Pick a test frame\n",
    "frame = frames[0]\n",
    "\n",
    "# Invert the positions\n",
    "frame_o3 = frame.copy()\n",
    "frame_o3.positions = -1 * frame_o3.positions\n",
    "frame_o3, (a, b, c) = spherical.rotate_ase_frame(frame_o3)\n",
    "print(\"Random rotation angles (rad):\", a, b, c)\n",
    "assert not np.all(frame.positions == frame_o3.positions)\n",
    "\n",
    "# Generate lambda-SOAP for both frames\n",
    "lsoap = clebsch_gordan.n_body_iteration_single_center(\n",
    "    [frame],\n",
    "    rascal_hypers,\n",
    "    nu_target=2,\n",
    "    lambdas=lambdas,\n",
    ")\n",
    "\n",
    "lsoap_o3 = clebsch_gordan.n_body_iteration_single_center(\n",
    "    [frame_o3],\n",
    "    rascal_hypers,\n",
    "    nu_target=2,\n",
    "    lambdas=lambdas,\n",
    ")\n",
    "\n",
    "# Build a Wigner-D Matrix from the random rotation angles\n",
    "wig = spherical.WignerDReal(rascal_hypers[\"max_angular\"], a, b, c)\n",
    "\n",
    "# Invert the TensorMap\n",
    "lsoap_transformed = spherical.invert_tensormap(lsoap)\n",
    "lsoap_transformed = wig.rotate_tensormap(lsoap_transformed)\n",
    "\n",
    "# Check for equivariance!\n",
    "assert equistore.equal_metadata(lsoap_transformed, lsoap_o3)\n",
    "assert equistore.allclose(lsoap_transformed, lsoap_o3)\n",
    "print(\"O(3) EQUIVARIANT!\")\n",
    "\n",
    "# chemiscope.show([frame, frame_o3], mode=\"structure\")"
   ]
  },
  {
   "cell_type": "markdown",
   "metadata": {},
   "source": [
    "# Other Tests"
   ]
  },
  {
   "cell_type": "code",
   "execution_count": 5,
   "metadata": {},
   "outputs": [],
   "source": [
    "# Define target lambda channels\n",
    "lambdas = np.array([0, 1, 2, 3, 4, 5])"
   ]
  },
  {
   "cell_type": "code",
   "execution_count": 6,
   "metadata": {},
   "outputs": [
    {
     "data": {
      "text/plain": [
       "TensorMap with 33 blocks\n",
       "keys: order_nu  inversion_sigma  spherical_harmonics_l  species_center\n",
       "         2             1                   0                  3\n",
       "         2             1                   1                  3\n",
       "                                    ...\n",
       "         2             1                   5                  22\n",
       "         2            -1                   5                  22"
      ]
     },
     "execution_count": 6,
     "metadata": {},
     "output_type": "execute_result"
    }
   ],
   "source": [
    "# Dense\n",
    "lsoap_new0 = clebsch_gordan.n_body_iteration_single_center(\n",
    "    frames,\n",
    "    rascal_hypers,\n",
    "    nu_target=2,\n",
    "    lambdas=lambdas,\n",
    "    lambda_cut=5,\n",
    "    use_sparse=False,\n",
    ")\n",
    "lsoap_new0"
   ]
  },
  {
   "cell_type": "code",
   "execution_count": 7,
   "metadata": {},
   "outputs": [
    {
     "data": {
      "text/plain": [
       "TensorMap with 33 blocks\n",
       "keys: order_nu  inversion_sigma  spherical_harmonics_l  species_center\n",
       "         2             1                   0                  3\n",
       "         2             1                   1                  3\n",
       "                                    ...\n",
       "         2             1                   5                  22\n",
       "         2            -1                   5                  22"
      ]
     },
     "execution_count": 7,
     "metadata": {},
     "output_type": "execute_result"
    }
   ],
   "source": [
    "# Sparse\n",
    "lsoap_new1 = clebsch_gordan.n_body_iteration_single_center(\n",
    "    frames,\n",
    "    rascal_hypers,\n",
    "    nu_target=2,\n",
    "    lambdas=lambdas,\n",
    "    lambda_cut=5,\n",
    "    use_sparse=True,\n",
    ")\n",
    "lsoap_new1"
   ]
  },
  {
   "cell_type": "code",
   "execution_count": 8,
   "metadata": {},
   "outputs": [
    {
     "data": {
      "text/plain": [
       "True"
      ]
     },
     "execution_count": 8,
     "metadata": {},
     "output_type": "execute_result"
    }
   ],
   "source": [
    "# Check sparse == dense\n",
    "equistore.allclose(lsoap_new0, lsoap_new1)"
   ]
  },
  {
   "cell_type": "code",
   "execution_count": 9,
   "metadata": {},
   "outputs": [
    {
     "data": {
      "text/plain": [
       "TensorMap with 33 blocks\n",
       "keys: inversion_sigma  spherical_harmonics_l  species_center\n",
       "             1                   0                  3\n",
       "             1                   1                  3\n",
       "                               ...\n",
       "            -1                   4                  22\n",
       "            -1                   5                  22"
      ]
     },
     "execution_count": 9,
     "metadata": {},
     "output_type": "execute_result"
    }
   ],
   "source": [
    "lsoap_old0 = spherical.lambda_soap_vector(\n",
    "    frames,\n",
    "    rascal_hypers,\n",
    "    lambda_cut=5,\n",
    ")\n",
    "# Using the old implementation, blocks must be dropped to retain only the\n",
    "# desired target lambdas\n",
    "keys_to_drop = Labels(\n",
    "    names=lsoap_old0.keys.names,\n",
    "    values=lsoap_old0.keys.values[[v not in lambdas for v in lsoap_old0.keys.column(\"spherical_harmonics_l\")]],\n",
    ")\n",
    "lsoap_old0 = equistore.drop_blocks(lsoap_old0, keys=keys_to_drop)\n",
    "lsoap_old0"
   ]
  },
  {
   "cell_type": "markdown",
   "metadata": {},
   "source": [
    "# Test system 1"
   ]
  },
  {
   "cell_type": "code",
   "execution_count": null,
   "metadata": {},
   "outputs": [],
   "source": [
    "%%timeit\n",
    "\n",
    "use_sparse = False\n",
    "\n",
    "tensor_dense = clebsch_gordan.n_body_iteration_single_center(\n",
    "    frames,\n",
    "    rascal_hypers=rascal_hypers,\n",
    "    nu_target=3,\n",
    "    lambdas=lambdas,\n",
    "    use_sparse=use_sparse,\n",
    ")\n",
    "tensor_dense\n",
    "\n",
    "# timeit comes out at about 22 seconds for nu_target = 3"
   ]
  },
  {
   "cell_type": "code",
   "execution_count": null,
   "metadata": {},
   "outputs": [],
   "source": [
    "%%timeit\n",
    "\n",
    "use_sparse = True\n",
    "\n",
    "tensor_sparse = clebsch_gordan.n_body_iteration_single_center(\n",
    "    frames,\n",
    "    rascal_hypers=rascal_hypers,\n",
    "    nu_target=3,\n",
    "    lambdas=lambdas,\n",
    "    use_sparse=use_sparse,\n",
    ")\n",
    "tensor_sparse\n",
    "\n",
    "# timeit comes out at about 13 seconds for nu_target = 3"
   ]
  },
  {
   "cell_type": "code",
   "execution_count": null,
   "metadata": {},
   "outputs": [],
   "source": [
    "tensor_sparse = clebsch_gordan.n_body_iteration_single_center(\n",
    "    frames,\n",
    "    rascal_hypers=rascal_hypers,\n",
    "    nu_target=3,\n",
    "    lambdas=lambdas,\n",
    "    use_sparse=True,\n",
    ")\n",
    "\n",
    "tensor_dense = clebsch_gordan.n_body_iteration_single_center(\n",
    "    frames,\n",
    "    rascal_hypers=rascal_hypers,\n",
    "    nu_target=3,\n",
    "    lambdas=lambdas,\n",
    "    use_sparse=False,\n",
    ")\n",
    "\n",
    "assert equistore.allclose(tensor_dense, tensor_sparse)"
   ]
  },
  {
   "cell_type": "markdown",
   "metadata": {},
   "source": [
    "# Test system 2"
   ]
  },
  {
   "cell_type": "code",
   "execution_count": null,
   "metadata": {},
   "outputs": [],
   "source": [
    "frames = [ase.io.read(\"frame.xyz\")]\n",
    "\n",
    "lambdas = np.array([0, 2])\n",
    "\n",
    "rascal_hypers = {\n",
    "    \"cutoff\": 3.0,  # Angstrom\n",
    "    \"max_radial\": 6,  # Exclusive\n",
    "    \"max_angular\": 5,  # Inclusive\n",
    "    \"atomic_gaussian_width\": 0.2,\n",
    "    \"radial_basis\": {\"Gto\": {}},\n",
    "    \"cutoff_function\": {\"ShiftedCosine\": {\"width\": 0.5}},\n",
    "    \"center_atom_weight\": 1.0,\n",
    "}\n",
    "\n",
    "n_body = clebsch_gordan.n_body_iteration_single_center(\n",
    "    frames,\n",
    "    rascal_hypers=rascal_hypers,\n",
    "    nu_target=3,\n",
    "    lambdas=lambdas,\n",
    ")\n",
    "n_body"
   ]
  }
 ],
 "metadata": {
  "kernelspec": {
   "display_name": "dev",
   "language": "python",
   "name": "python3"
  },
  "language_info": {
   "codemirror_mode": {
    "name": "ipython",
    "version": 3
   },
   "file_extension": ".py",
   "mimetype": "text/x-python",
   "name": "python",
   "nbconvert_exporter": "python",
   "pygments_lexer": "ipython3",
   "version": "3.10.9"
  },
  "orig_nbformat": 4
 },
 "nbformat": 4,
 "nbformat_minor": 2
}
