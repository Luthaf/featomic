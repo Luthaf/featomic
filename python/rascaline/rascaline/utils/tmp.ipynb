{
 "cells": [
  {
   "cell_type": "code",
   "execution_count": 1,
   "metadata": {},
   "outputs": [],
   "source": [
    "%load_ext autoreload\n",
    "%autoreload 2\n",
    "\n",
    "import ase.io\n",
    "import numpy as np\n",
    "\n",
    "import rascaline\n",
    "import equistore\n",
    "from equistore import Labels, TensorBlock, TensorMap\n",
    "\n",
    "# from rascaline.utils import clebsch_gordan\n",
    "import clebsch_gordan\n",
    "import spherical"
   ]
  },
  {
   "cell_type": "code",
   "execution_count": 2,
   "metadata": {},
   "outputs": [],
   "source": [
    "frames = ase.io.read(\"combined_magres_spherical.xyz\", \":\")\n",
    "\n",
    "# Define hyperparameters for generating the rascaline SphericalExpansion\n",
    "rascal_hypers = {\n",
    "    \"cutoff\": 3.0,  # Angstrom\n",
    "    \"max_radial\": 6,  # Exclusive\n",
    "    \"max_angular\": 5,  # Inclusive\n",
    "    \"atomic_gaussian_width\": 0.2,\n",
    "    \"radial_basis\": {\"Gto\": {}},\n",
    "    \"cutoff_function\": {\"ShiftedCosine\": {\"width\": 0.5}},\n",
    "    \"center_atom_weight\": 1.0,\n",
    "}\n",
    "\n",
    "# Define target lambda channels\n",
    "lambdas = np.array([0, 1, 2])"
   ]
  },
  {
   "cell_type": "markdown",
   "metadata": {},
   "source": [
    "# Equivariance Test"
   ]
  },
  {
   "cell_type": "code",
   "execution_count": 3,
   "metadata": {},
   "outputs": [
    {
     "name": "stdout",
     "output_type": "stream",
     "text": [
      "Random rotation angles (rad): 2.772363661827398 1.8039589759258468 1.2427261014900488\n"
     ]
    }
   ],
   "source": [
    "# Pick a test frame\n",
    "frame = frames[0]\n",
    "\n",
    "# Randomly rigidly rotate the frame\n",
    "frame_rot, (a, b, c) = spherical.rotate_ase_frame(frame)\n",
    "print(\"Random rotation angles (rad):\", a, b, c)\n",
    "\n",
    "# Generate lambda-SOAP for both frames\n",
    "lsoap = clebsch_gordan.n_body_iteration_single_center(\n",
    "    [frame],\n",
    "    rascal_hypers,\n",
    "    nu_target=2,\n",
    "    lambdas=lambdas,\n",
    ")\n",
    "\n",
    "lsoap_rot = clebsch_gordan.n_body_iteration_single_center(\n",
    "    [frame_rot],\n",
    "    rascal_hypers,\n",
    "    nu_target=2,\n",
    "    lambdas=lambdas,\n",
    ")\n",
    "\n",
    "# Build a Wigner-D Matrix from the random rotation angles\n",
    "wig = spherical.WignerDReal(rascal_hypers[\"max_angular\"], a, b, c)\n",
    "\n",
    "# Rotate the lambda-SOAP descriptor of the unrotated frame\n",
    "lsoap_unrot_rot = wig.rotate_tensormap(lsoap)"
   ]
  },
  {
   "cell_type": "code",
   "execution_count": 6,
   "metadata": {},
   "outputs": [],
   "source": [
    "assert equistore.equal_metadata(lsoap_unrot_rot, lsoap_rot)\n",
    "assert equistore.allclose(lsoap_unrot_rot, lsoap_rot)"
   ]
  },
  {
   "cell_type": "markdown",
   "metadata": {},
   "source": [
    "# Normalization Tests"
   ]
  },
  {
   "cell_type": "code",
   "execution_count": null,
   "metadata": {},
   "outputs": [],
   "source": [
    "lsoap_new0 = clebsch_gordan.n_body_iteration_single_center(\n",
    "    frames,\n",
    "    rascal_hypers,\n",
    "    nu_target=2,\n",
    "    lambdas=lambdas,\n",
    ")\n",
    "lsoap_new0"
   ]
  },
  {
   "cell_type": "code",
   "execution_count": null,
   "metadata": {},
   "outputs": [],
   "source": [
    "lsoap_old0 = spherical.lambda_soap_vector(\n",
    "    frames,\n",
    "    rascal_hypers,\n",
    ")\n",
    "# Drop all odd parity keys/blocks\n",
    "keys_to_drop = Labels(\n",
    "    names=lsoap_old0.keys.names,\n",
    "    values=lsoap_old0.keys.values[[v not in lambdas for v in lsoap_old0.keys.column(\"spherical_harmonics_l\")]],\n",
    ")\n",
    "lsoap_old0 = equistore.drop_blocks(lsoap_old0, keys=keys_to_drop)\n",
    "lsoap_old0"
   ]
  },
  {
   "cell_type": "markdown",
   "metadata": {},
   "source": [
    "# Test system 1"
   ]
  },
  {
   "cell_type": "code",
   "execution_count": null,
   "metadata": {},
   "outputs": [],
   "source": [
    "%%timeit\n",
    "\n",
    "use_sparse = False\n",
    "\n",
    "tensor_dense = clebsch_gordan.n_body_iteration_single_center(\n",
    "    frames,\n",
    "    rascal_hypers=rascal_hypers,\n",
    "    nu_target=3,\n",
    "    lambdas=lambdas,\n",
    "    use_sparse=use_sparse,\n",
    ")\n",
    "tensor_dense\n",
    "\n",
    "# timeit comes out at about 22 seconds for nu_target = 3"
   ]
  },
  {
   "cell_type": "code",
   "execution_count": null,
   "metadata": {},
   "outputs": [],
   "source": [
    "%%timeit\n",
    "\n",
    "use_sparse = True\n",
    "\n",
    "tensor_sparse = clebsch_gordan.n_body_iteration_single_center(\n",
    "    frames,\n",
    "    rascal_hypers=rascal_hypers,\n",
    "    nu_target=3,\n",
    "    lambdas=lambdas,\n",
    "    use_sparse=use_sparse,\n",
    ")\n",
    "tensor_sparse\n",
    "\n",
    "# timeit comes out at about 13 seconds for nu_target = 3"
   ]
  },
  {
   "cell_type": "code",
   "execution_count": null,
   "metadata": {},
   "outputs": [],
   "source": [
    "tensor_sparse = clebsch_gordan.n_body_iteration_single_center(\n",
    "    frames,\n",
    "    rascal_hypers=rascal_hypers,\n",
    "    nu_target=3,\n",
    "    lambdas=lambdas,\n",
    "    use_sparse=True,\n",
    ")\n",
    "\n",
    "tensor_dense = clebsch_gordan.n_body_iteration_single_center(\n",
    "    frames,\n",
    "    rascal_hypers=rascal_hypers,\n",
    "    nu_target=3,\n",
    "    lambdas=lambdas,\n",
    "    use_sparse=False,\n",
    ")\n",
    "\n",
    "assert equistore.allclose(tensor_dense, tensor_sparse)"
   ]
  },
  {
   "cell_type": "markdown",
   "metadata": {},
   "source": [
    "# Test system 2"
   ]
  },
  {
   "cell_type": "code",
   "execution_count": null,
   "metadata": {},
   "outputs": [],
   "source": [
    "frames = [ase.io.read(\"frame.xyz\")]\n",
    "\n",
    "lambdas = np.array([0, 2])\n",
    "\n",
    "rascal_hypers = {\n",
    "    \"cutoff\": 3.0,  # Angstrom\n",
    "    \"max_radial\": 6,  # Exclusive\n",
    "    \"max_angular\": 5,  # Inclusive\n",
    "    \"atomic_gaussian_width\": 0.2,\n",
    "    \"radial_basis\": {\"Gto\": {}},\n",
    "    \"cutoff_function\": {\"ShiftedCosine\": {\"width\": 0.5}},\n",
    "    \"center_atom_weight\": 1.0,\n",
    "}\n",
    "\n",
    "n_body = clebsch_gordan.n_body_iteration_single_center(\n",
    "    frames,\n",
    "    rascal_hypers=rascal_hypers,\n",
    "    nu_target=3,\n",
    "    lambdas=lambdas,\n",
    ")\n",
    "n_body"
   ]
  },
  {
   "cell_type": "code",
   "execution_count": null,
   "metadata": {},
   "outputs": [],
   "source": [
    "# selected_samples = None\n",
    "# species_neighbors = [1, 8, 6]\n",
    "\n",
    "# calculator = rascaline.SphericalExpansion(**rascal_hypers)\n",
    "# nu1 = calculator.compute(frames, selected_samples=selected_samples)\n",
    "\n",
    "# # Move the \"species_neighbor\" key to the properties. If species_neighbors is\n",
    "# # passed as a list of int, sparsity can be created in the properties for\n",
    "# # these species.\n",
    "# if species_neighbors is None:\n",
    "#     keys_to_move = \"species_neighbor\"\n",
    "# else:\n",
    "#     keys_to_move = Labels(\n",
    "#         names=[\"species_neighbor\"],\n",
    "#         values=np.array(species_neighbors).reshape(-1, 1),\n",
    "#     )\n",
    "# nu1 = nu1.keys_to_properties(keys_to_move=keys_to_move)\n",
    "# nu1 = clebsch_gordan._add_nu_sigma_to_key_names(nu1)"
   ]
  }
 ],
 "metadata": {
  "kernelspec": {
   "display_name": "dev",
   "language": "python",
   "name": "python3"
  },
  "language_info": {
   "codemirror_mode": {
    "name": "ipython",
    "version": 3
   },
   "file_extension": ".py",
   "mimetype": "text/x-python",
   "name": "python",
   "nbconvert_exporter": "python",
   "pygments_lexer": "ipython3",
   "version": "3.10.9"
  },
  "orig_nbformat": 4
 },
 "nbformat": 4,
 "nbformat_minor": 2
}
